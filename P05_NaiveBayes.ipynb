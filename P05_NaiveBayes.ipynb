{
 "cells": [
  {
   "cell_type": "markdown",
   "metadata": {},
   "source": [
    "# Naïve Bayes Practical\n"
   ]
  },
  {
   "cell_type": "markdown",
   "metadata": {},
   "source": [
    "In today's practical we will develop, train and evaluate a Naive Bayes classifier from scratch. \n",
    "First of all let's import pandas"
   ]
  },
  {
   "cell_type": "code",
   "execution_count": 87,
   "metadata": {},
   "outputs": [],
   "source": [
    "import pandas as pd"
   ]
  },
  {
   "cell_type": "markdown",
   "metadata": {},
   "source": [
    "## The dataset\n",
    "\n",
    "The data set we will use for this practical is the Adult data set from the UCI Machine Learning Repository.\n",
    "\n",
    "With this data set we'll build a classifier for classifying adult Americans to those with an annual salary of at most \\\\$50,000 (\"<=50K\") and those above \\\\$50,000 (\">50K\"). Look at the [website for the Adult data](https://archive.ics.uci.edu/ml/datasets/adult) set to understand it more.\n",
    "\n"
   ]
  },
  {
   "cell_type": "code",
   "execution_count": 89,
   "metadata": {},
   "outputs": [],
   "source": [
    "training = pd.read_csv(\"DatasetsForPracticals/NaivePractical/adult_data.csv\",na_values=\"?\",skipinitialspace=True)"
   ]
  },
  {
   "cell_type": "markdown",
   "metadata": {},
   "source": [
    "Use `training.head()`, `training.describe(include='all')`, `training.info()` to get an idea of the data in hand. Using `include='all'` in `describe` lets you see both categorical and continuous variables. \n"
   ]
  },
  {
   "cell_type": "code",
   "execution_count": 1,
   "metadata": {
    "scrolled": true
   },
   "outputs": [],
   "source": [
    "# Insert your code here\n"
   ]
  },
  {
   "cell_type": "markdown",
   "metadata": {},
   "source": [
    "The method `pd.crosstab()` or `.value_counts()` can be used to look at classes that you're particularly interested in. In this case, our label will be `salary` so have a look at how many instances you have from each class:"
   ]
  },
  {
   "cell_type": "code",
   "execution_count": 2,
   "metadata": {},
   "outputs": [],
   "source": [
    "# Insert your code here\n"
   ]
  },
  {
   "cell_type": "markdown",
   "metadata": {},
   "source": [
    "Notice that the salary class in the training set is heavily biased towards <=50K. Spend a few minutes further understanding the data. What is the _a priori_ probability of class '<=50K'? What is the _a priori_ probability of class '>50K'?"
   ]
  },
  {
   "cell_type": "code",
   "execution_count": 92,
   "metadata": {},
   "outputs": [
    {
     "data": {
      "text/html": [
       "<div>\n",
       "<style scoped>\n",
       "    .dataframe tbody tr th:only-of-type {\n",
       "        vertical-align: middle;\n",
       "    }\n",
       "\n",
       "    .dataframe tbody tr th {\n",
       "        vertical-align: top;\n",
       "    }\n",
       "\n",
       "    .dataframe thead th {\n",
       "        text-align: right;\n",
       "    }\n",
       "</style>\n",
       "<table border=\"1\" class=\"dataframe\">\n",
       "  <thead>\n",
       "    <tr style=\"text-align: right;\">\n",
       "      <th>col_0</th>\n",
       "      <th>count</th>\n",
       "    </tr>\n",
       "    <tr>\n",
       "      <th>salary</th>\n",
       "      <th></th>\n",
       "    </tr>\n",
       "  </thead>\n",
       "  <tbody>\n",
       "    <tr>\n",
       "      <th>&lt;=50K</th>\n",
       "      <td>0.75919</td>\n",
       "    </tr>\n",
       "    <tr>\n",
       "      <th>&gt;50K</th>\n",
       "      <td>0.24081</td>\n",
       "    </tr>\n",
       "  </tbody>\n",
       "</table>\n",
       "</div>"
      ],
      "text/plain": [
       "col_0     count\n",
       "salary         \n",
       "<=50K   0.75919\n",
       ">50K    0.24081"
      ]
     },
     "execution_count": 92,
     "metadata": {},
     "output_type": "execute_result"
    }
   ],
   "source": [
    "# Insert your code here"
   ]
  },
  {
   "cell_type": "markdown",
   "metadata": {},
   "source": [
    "## Naïve Bayes classifier\n",
    "\n",
    "Recall that to implement a Naive Bayes we’d use the following equation for each class to determine which class has highest probability of occurring given the feature data:\n",
    "\n",
    "$$p(c_i|x)\\propto p(c_i)p(x_1|c_i)p(x_2|c_i)\\ldots p(x_n|c_i)$$\n",
    "\n",
    "So, we need to determine the _a priori_ probability, $p(c_i)$, of each class occurring. Assuming our training set is representative then this is easily done and can be achieved by using either the `pd.crosstab()` function or `value_counts()` and `unstack()`."
   ]
  },
  {
   "cell_type": "code",
   "execution_count": 93,
   "metadata": {},
   "outputs": [
    {
     "data": {
      "text/html": [
       "<div>\n",
       "<style scoped>\n",
       "    .dataframe tbody tr th:only-of-type {\n",
       "        vertical-align: middle;\n",
       "    }\n",
       "\n",
       "    .dataframe tbody tr th {\n",
       "        vertical-align: top;\n",
       "    }\n",
       "\n",
       "    .dataframe thead th {\n",
       "        text-align: right;\n",
       "    }\n",
       "</style>\n",
       "<table border=\"1\" class=\"dataframe\">\n",
       "  <thead>\n",
       "    <tr style=\"text-align: right;\">\n",
       "      <th>salary</th>\n",
       "      <th>&lt;=50K</th>\n",
       "      <th>&gt;50K</th>\n",
       "    </tr>\n",
       "    <tr>\n",
       "      <th>education</th>\n",
       "      <th></th>\n",
       "      <th></th>\n",
       "    </tr>\n",
       "  </thead>\n",
       "  <tbody>\n",
       "    <tr>\n",
       "      <th>10th</th>\n",
       "      <td>871</td>\n",
       "      <td>62</td>\n",
       "    </tr>\n",
       "    <tr>\n",
       "      <th>11th</th>\n",
       "      <td>1115</td>\n",
       "      <td>60</td>\n",
       "    </tr>\n",
       "    <tr>\n",
       "      <th>12th</th>\n",
       "      <td>400</td>\n",
       "      <td>33</td>\n",
       "    </tr>\n",
       "    <tr>\n",
       "      <th>1st-4th</th>\n",
       "      <td>162</td>\n",
       "      <td>6</td>\n",
       "    </tr>\n",
       "    <tr>\n",
       "      <th>5th-6th</th>\n",
       "      <td>317</td>\n",
       "      <td>16</td>\n",
       "    </tr>\n",
       "    <tr>\n",
       "      <th>7th-8th</th>\n",
       "      <td>606</td>\n",
       "      <td>40</td>\n",
       "    </tr>\n",
       "    <tr>\n",
       "      <th>9th</th>\n",
       "      <td>487</td>\n",
       "      <td>27</td>\n",
       "    </tr>\n",
       "    <tr>\n",
       "      <th>Assoc-acdm</th>\n",
       "      <td>802</td>\n",
       "      <td>265</td>\n",
       "    </tr>\n",
       "    <tr>\n",
       "      <th>Assoc-voc</th>\n",
       "      <td>1021</td>\n",
       "      <td>361</td>\n",
       "    </tr>\n",
       "    <tr>\n",
       "      <th>Bachelors</th>\n",
       "      <td>3134</td>\n",
       "      <td>2221</td>\n",
       "    </tr>\n",
       "    <tr>\n",
       "      <th>Doctorate</th>\n",
       "      <td>107</td>\n",
       "      <td>306</td>\n",
       "    </tr>\n",
       "    <tr>\n",
       "      <th>HS-grad</th>\n",
       "      <td>8826</td>\n",
       "      <td>1675</td>\n",
       "    </tr>\n",
       "    <tr>\n",
       "      <th>Masters</th>\n",
       "      <td>764</td>\n",
       "      <td>959</td>\n",
       "    </tr>\n",
       "    <tr>\n",
       "      <th>Preschool</th>\n",
       "      <td>51</td>\n",
       "      <td>0</td>\n",
       "    </tr>\n",
       "    <tr>\n",
       "      <th>Prof-school</th>\n",
       "      <td>153</td>\n",
       "      <td>423</td>\n",
       "    </tr>\n",
       "    <tr>\n",
       "      <th>Some-college</th>\n",
       "      <td>5904</td>\n",
       "      <td>1387</td>\n",
       "    </tr>\n",
       "  </tbody>\n",
       "</table>\n",
       "</div>"
      ],
      "text/plain": [
       "salary        <=50K  >50K\n",
       "education                \n",
       "10th            871    62\n",
       "11th           1115    60\n",
       "12th            400    33\n",
       "1st-4th         162     6\n",
       "5th-6th         317    16\n",
       "7th-8th         606    40\n",
       "9th             487    27\n",
       "Assoc-acdm      802   265\n",
       "Assoc-voc      1021   361\n",
       "Bachelors      3134  2221\n",
       "Doctorate       107   306\n",
       "HS-grad        8826  1675\n",
       "Masters         764   959\n",
       "Preschool        51     0\n",
       "Prof-school     153   423\n",
       "Some-college   5904  1387"
      ]
     },
     "execution_count": 93,
     "metadata": {},
     "output_type": "execute_result"
    }
   ],
   "source": [
    "table=pd.DataFrame(pd.crosstab(training['education'],training['salary']))\n",
    "table\n",
    "# or \n",
    "#training[['education','salary']].value_counts().unstack(fill_value=0)"
   ]
  },
  {
   "cell_type": "markdown",
   "metadata": {},
   "source": [
    "We can use the same table to get the numbers we need for calculating $p(x_{\\textrm{education}}|c_i)$.\n",
    "\n",
    "How do we get the corresponding probabilities from this table? That's actually all we need to compute the probabilities of interest. For instance, how could you calculate the probability of someone having an education level '10th' given that they're earning '>50k',  i.e., $p(x_{\\textrm{education}}=10th|c_i='>50k')$ ?"
   ]
  },
  {
   "cell_type": "code",
   "execution_count": 94,
   "metadata": {},
   "outputs": [
    {
     "data": {
      "text/plain": [
       "0.007907154699655656"
      ]
     },
     "execution_count": 94,
     "metadata": {},
     "output_type": "execute_result"
    }
   ],
   "source": [
    "# Insert your code here\n"
   ]
  },
  {
   "cell_type": "markdown",
   "metadata": {},
   "source": [
    "Look at the code in the function `classifier1.py` that uses the education feature.\n",
    "\n",
    "Make sure you understand the code. It's recommended that you run parts of the code here and look at the output to make sure you understand what's going on."
   ]
  },
  {
   "cell_type": "code",
   "execution_count": 95,
   "metadata": {},
   "outputs": [],
   "source": [
    "# Data tables that are needed\n",
    "salary_table = training['salary'].value_counts()\n",
    "educationSalary_table=pd.DataFrame(pd.crosstab(training['education'],training['salary']))\n",
    "\n",
    "\n",
    "# Classifier function\n",
    "# Input\n",
    "#    x: vector of feature values\n",
    "#    printPosteriorProbs: if True then prints the class probabilities\n",
    "# Output\n",
    "#    result: classification result and class probabilities\n",
    "\n",
    "def classifier1(x, printProbs=False):\n",
    "    # We start with the a-priori probabilities of salary\n",
    "    salaryProbs = salary_table/sum(salary_table)\n",
    "    # prior p(Salary<=50K)\n",
    "    lowSalaryPrior = salaryProbs[\"<=50K\"]\n",
    "    # prior p(Salary>50K)\n",
    "    highSalaryPrior = salaryProbs[\">50K\"]\n",
    "    \n",
    "    #Education: We use the conditional probabilities of Education level given salary level\n",
    "    education=x['education']\n",
    "    \n",
    "    # p(Salary= less50k| education level) ~= p(salary=less50k)*p(education level|salary=less50k)\n",
    "    lowSalaryProb = lowSalaryPrior * educationSalary_table.loc[education,\"<=50K\"]/educationSalary_table.loc[:,\"<=50K\"].sum()\n",
    "    \n",
    "    # p(Salary= greater50k| education level) ~= p(salary=greater50k)*p(education level|salary=greater50k)\n",
    "    highSalaryProb = highSalaryPrior * educationSalary_table.loc[education,\">50K\"]/educationSalary_table.loc[:,\">50K\"].sum()\n",
    "\n",
    "    if printProbs:\n",
    "        print(\"<=50K: \",lowSalaryProb,\">50K:\",highSalaryProb)\n",
    "        \n",
    "    # Decide on the result\n",
    "    result = \">50K\" if highSalaryProb > lowSalaryProb else \"<=50K\"\n",
    "    return pd.Series((result, lowSalaryProb, highSalaryProb))"
   ]
  },
  {
   "cell_type": "markdown",
   "metadata": {},
   "source": [
    "Test the function to ensure it produces the following results for the training instances 1 and 6. How would you classify these two instances?\n"
   ]
  },
  {
   "cell_type": "code",
   "execution_count": 96,
   "metadata": {},
   "outputs": [
    {
     "name": "stdout",
     "output_type": "stream",
     "text": [
      "<=50K:  0.09625011516845305 >50K: 0.06821043579742637\n",
      "0      <=50K\n",
      "1    0.09625\n",
      "2    0.06821\n",
      "dtype: object\n",
      "===\n",
      "<=50K:  0.023463652836215106 >50K: 0.029452412395196706\n",
      "0        >50K\n",
      "1    0.023464\n",
      "2    0.029452\n",
      "dtype: object\n"
     ]
    }
   ],
   "source": [
    "#Insert your code here\n"
   ]
  },
  {
   "cell_type": "markdown",
   "metadata": {},
   "source": [
    "Now let's apply the classifier to the whole test set and analyse the result:"
   ]
  },
  {
   "cell_type": "code",
   "execution_count": 97,
   "metadata": {},
   "outputs": [],
   "source": [
    "test=pd.read_csv(\"DatasetsForPracticals/NaiveBayesPractical/adult_test.csv\",na_values=\"?\",skipinitialspace=True)"
   ]
  },
  {
   "cell_type": "code",
   "execution_count": 98,
   "metadata": {},
   "outputs": [],
   "source": [
    "predictions=test.apply(classifier1,axis=1)\n",
    "predictions.columns=['predClass','<=50K','>50K']"
   ]
  },
  {
   "cell_type": "markdown",
   "metadata": {},
   "source": [
    "Let's create the confusion matrix:"
   ]
  },
  {
   "cell_type": "code",
   "execution_count": 99,
   "metadata": {},
   "outputs": [
    {
     "data": {
      "text/html": [
       "<div>\n",
       "<style scoped>\n",
       "    .dataframe tbody tr th:only-of-type {\n",
       "        vertical-align: middle;\n",
       "    }\n",
       "\n",
       "    .dataframe tbody tr th {\n",
       "        vertical-align: top;\n",
       "    }\n",
       "\n",
       "    .dataframe thead th {\n",
       "        text-align: right;\n",
       "    }\n",
       "</style>\n",
       "<table border=\"1\" class=\"dataframe\">\n",
       "  <thead>\n",
       "    <tr style=\"text-align: right;\">\n",
       "      <th>Actual</th>\n",
       "      <th>&lt;=50K</th>\n",
       "      <th>&gt;50K</th>\n",
       "    </tr>\n",
       "    <tr>\n",
       "      <th>Predicted</th>\n",
       "      <th></th>\n",
       "      <th></th>\n",
       "    </tr>\n",
       "  </thead>\n",
       "  <tbody>\n",
       "    <tr>\n",
       "      <th>&lt;=50K</th>\n",
       "      <td>11881</td>\n",
       "      <td>3027</td>\n",
       "    </tr>\n",
       "    <tr>\n",
       "      <th>&gt;50K</th>\n",
       "      <td>554</td>\n",
       "      <td>819</td>\n",
       "    </tr>\n",
       "  </tbody>\n",
       "</table>\n",
       "</div>"
      ],
      "text/plain": [
       "Actual     <=50K  >50K\n",
       "Predicted             \n",
       "<=50K      11881  3027\n",
       ">50K         554   819"
      ]
     },
     "execution_count": 99,
     "metadata": {},
     "output_type": "execute_result"
    }
   ],
   "source": [
    "cm=pd.crosstab(predictions.predClass,test.salary,colnames=['Actual'],rownames=['Predicted'])\n",
    "cm"
   ]
  },
  {
   "cell_type": "markdown",
   "metadata": {},
   "source": [
    "Using this table, can you calculate measures such as accuracy, TPR, FPR, etc.? Assume that \">50K\" is the positive class."
   ]
  },
  {
   "cell_type": "code",
   "execution_count": 100,
   "metadata": {},
   "outputs": [
    {
     "name": "stdout",
     "output_type": "stream",
     "text": [
      "0.7800503654566673\n",
      "0.21294851794071762\n",
      "0.04455166867712103\n"
     ]
    }
   ],
   "source": [
    "#Insert your code/answer here\n",
    "\n"
   ]
  },
  {
   "cell_type": "markdown",
   "metadata": {},
   "source": [
    "If we consider \">50K\" as the positive class then the true positive rate is $819/(3027+819)=21.3\\%$ and the false positive rate is $554/(11881+554) = 4.5\\%$. This seems very low true positive rate. Maybe using more features will improve matters.\n",
    "\n",
    "For this, you will create the funstion `classifier2`. To build this function you need to copy and paste the code from `classifier1` and edit so that it now includes the **workclass** feature as well.\n",
    "\n",
    "You need to make additions in two places: in the frequency table and within the function classifier."
   ]
  },
  {
   "cell_type": "code",
   "execution_count": 101,
   "metadata": {},
   "outputs": [],
   "source": [
    "#Insert your code here\n"
   ]
  },
  {
   "cell_type": "markdown",
   "metadata": {},
   "source": [
    "When completed you should see the following values for instances 1 and 6 of the training set:\n",
    "\n",
    "```\n",
    "> classifier2(training.iloc[0,:])\n",
    "0       <=50K\n",
    "1    0.003942\n",
    "2    0.003147\n",
    "dtype: object\n",
    "\n",
    "> classifier2(training.iloc[5,:])\n",
    "0        >50K\n",
    "1    0.018032\n",
    "2    0.019107\n",
    "dtype: object\n",
    "\n",
    "```\n",
    "How would you implement classifier 2 in order you get these results?"
   ]
  },
  {
   "cell_type": "code",
   "execution_count": 102,
   "metadata": {},
   "outputs": [
    {
     "name": "stdout",
     "output_type": "stream",
     "text": [
      "0       <=50K\n",
      "1    0.003942\n",
      "2    0.003147\n",
      "dtype: object\n",
      "====\n",
      "0        >50K\n",
      "1    0.018032\n",
      "2    0.019107\n",
      "dtype: object\n"
     ]
    }
   ],
   "source": [
    "# Insert your code here\n",
    "\n",
    "print(classifier2(training.iloc[0,:]))\n",
    "\n",
    "print(\"====\")\n",
    "\n",
    "print(classifier2(training.iloc[5,:]))"
   ]
  },
  {
   "cell_type": "markdown",
   "metadata": {},
   "source": [
    "Apply this to the whole test set and get the confusion matrix. You should get the following result:\n",
    "\n",
    "```\n",
    "         actual\n",
    "predicted <=50K  >50K\n",
    "    <=50K 11764  2854\n",
    "    >50K    671   992\n",
    "```"
   ]
  },
  {
   "cell_type": "code",
   "execution_count": 103,
   "metadata": {},
   "outputs": [
    {
     "data": {
      "text/html": [
       "<div>\n",
       "<style scoped>\n",
       "    .dataframe tbody tr th:only-of-type {\n",
       "        vertical-align: middle;\n",
       "    }\n",
       "\n",
       "    .dataframe tbody tr th {\n",
       "        vertical-align: top;\n",
       "    }\n",
       "\n",
       "    .dataframe thead th {\n",
       "        text-align: right;\n",
       "    }\n",
       "</style>\n",
       "<table border=\"1\" class=\"dataframe\">\n",
       "  <thead>\n",
       "    <tr style=\"text-align: right;\">\n",
       "      <th>Actual</th>\n",
       "      <th>&lt;=50K</th>\n",
       "      <th>&gt;50K</th>\n",
       "    </tr>\n",
       "    <tr>\n",
       "      <th>Predicted</th>\n",
       "      <th></th>\n",
       "      <th></th>\n",
       "    </tr>\n",
       "  </thead>\n",
       "  <tbody>\n",
       "    <tr>\n",
       "      <th>&lt;=50K</th>\n",
       "      <td>11764</td>\n",
       "      <td>2854</td>\n",
       "    </tr>\n",
       "    <tr>\n",
       "      <th>&gt;50K</th>\n",
       "      <td>671</td>\n",
       "      <td>992</td>\n",
       "    </tr>\n",
       "  </tbody>\n",
       "</table>\n",
       "</div>"
      ],
      "text/plain": [
       "Actual     <=50K  >50K\n",
       "Predicted             \n",
       "<=50K      11764  2854\n",
       ">50K         671   992"
      ]
     },
     "execution_count": 103,
     "metadata": {},
     "output_type": "execute_result"
    }
   ],
   "source": [
    "# Insert your code here\n",
    "\n"
   ]
  },
  {
   "cell_type": "markdown",
   "metadata": {},
   "source": [
    "Is this any better? How has the TPR and FPR changed?"
   ]
  },
  {
   "cell_type": "code",
   "execution_count": 104,
   "metadata": {},
   "outputs": [
    {
     "name": "stdout",
     "output_type": "stream",
     "text": [
      "0.2579303172126885\n",
      "0.05396059509449135\n"
     ]
    }
   ],
   "source": [
    "#Insert your code here\n"
   ]
  },
  {
   "cell_type": "markdown",
   "metadata": {},
   "source": [
    "## ROC curves\n",
    "\n",
    "Choosing the best classifier requires considering a trade-off between TPR and the FPR.\n",
    "\n",
    "Our trained classifier has given us a single pair of true positive and false positive rates (TPR=25.8%, FPR=5.4%) but in fact it can support many other rate pairs if we simply adjust our sensitivity to predicting high salaries.\n",
    "\n",
    "We can adjust the rate simply by adding a weight to the score for high salaries. Let’s add a weight of 2.0 to high salaries. This should result in more true positives at the expense of more false positives.\n",
    "\n",
    "Create `classifier2b` and add a weight of 2.0 to the high salary score and see how well the classifier works now. The true positive rate should now be 53.4% with a false positive rate of 18.8%."
   ]
  },
  {
   "cell_type": "code",
   "execution_count": 105,
   "metadata": {},
   "outputs": [],
   "source": [
    "# Insert your code here for classifier2b\n"
   ]
  },
  {
   "cell_type": "code",
   "execution_count": 107,
   "metadata": {},
   "outputs": [
    {
     "name": "stdout",
     "output_type": "stream",
     "text": [
      "Actual     <=50K  >50K\n",
      "Predicted             \n",
      "<=50K      10100  1792\n",
      ">50K        2335  2054\n",
      "====\n",
      "0.5340613624544982\n",
      "0.18777643747486933\n"
     ]
    }
   ],
   "source": [
    "# Insert your code here for getting predictions, confusion matrix and TPR,FPR\n"
   ]
  },
  {
   "cell_type": "markdown",
   "metadata": {},
   "source": [
    "If we keep adjusting the weight for high salary, we can get get a whole range of true positive rates from 0 to 1.0 (100%).\n",
    "\n",
    "If we alter our classifier code to return the ratio of high salary score to low salary score, then we can easily adjust the weighting after we have applied the score to all our training examples\n",
    "\n",
    "Make a copy of your `classifier2` file and call it `classifier3`.\n",
    "\n",
    "Change the function to return `highSalaryProb/lowSalaryProb`"
   ]
  },
  {
   "cell_type": "code",
   "execution_count": 108,
   "metadata": {},
   "outputs": [],
   "source": [
    "# Insert your code here for classifier3\n"
   ]
  },
  {
   "cell_type": "markdown",
   "metadata": {},
   "source": [
    "Now the threshold can easily be altered by adjusting the weighting for a high salary. If the threshold is 1.0 we get the same results are before"
   ]
  },
  {
   "cell_type": "code",
   "execution_count": 109,
   "metadata": {},
   "outputs": [],
   "source": [
    "# Uncomment this cell when classifier 3 has been written\n",
    "#ratios=test.apply(classifier3,axis=1)\n",
    "#predictions=list(map(lambda x:(\">50K\" if x>1.0 else \"<=50K\"),ratios))"
   ]
  },
  {
   "cell_type": "code",
   "execution_count": 110,
   "metadata": {},
   "outputs": [
    {
     "data": {
      "text/html": [
       "<div>\n",
       "<style scoped>\n",
       "    .dataframe tbody tr th:only-of-type {\n",
       "        vertical-align: middle;\n",
       "    }\n",
       "\n",
       "    .dataframe tbody tr th {\n",
       "        vertical-align: top;\n",
       "    }\n",
       "\n",
       "    .dataframe thead th {\n",
       "        text-align: right;\n",
       "    }\n",
       "</style>\n",
       "<table border=\"1\" class=\"dataframe\">\n",
       "  <thead>\n",
       "    <tr style=\"text-align: right;\">\n",
       "      <th>Actual</th>\n",
       "      <th>&lt;=50K</th>\n",
       "      <th>&gt;50K</th>\n",
       "    </tr>\n",
       "    <tr>\n",
       "      <th>Predicted</th>\n",
       "      <th></th>\n",
       "      <th></th>\n",
       "    </tr>\n",
       "  </thead>\n",
       "  <tbody>\n",
       "    <tr>\n",
       "      <th>&lt;=50K</th>\n",
       "      <td>11764</td>\n",
       "      <td>2854</td>\n",
       "    </tr>\n",
       "    <tr>\n",
       "      <th>&gt;50K</th>\n",
       "      <td>671</td>\n",
       "      <td>992</td>\n",
       "    </tr>\n",
       "  </tbody>\n",
       "</table>\n",
       "</div>"
      ],
      "text/plain": [
       "Actual     <=50K  >50K\n",
       "Predicted             \n",
       "<=50K      11764  2854\n",
       ">50K         671   992"
      ]
     },
     "execution_count": 110,
     "metadata": {},
     "output_type": "execute_result"
    }
   ],
   "source": [
    "# Uncomment this cell when classifier 3 has been written\n",
    "#cm=pd.crosstab(pd.Series(predictions),test.salary,colnames=['Actual'],rownames=['Predicted'])\n",
    "#cm"
   ]
  },
  {
   "cell_type": "markdown",
   "metadata": {},
   "source": [
    "If we set a lower threshold then we effectively increase the weight of the high salary class.\n",
    "\n",
    "Setting a threshold of 0.5 is equivalent to a high salary weighting of 2.0 giving the below results below:"
   ]
  },
  {
   "cell_type": "code",
   "execution_count": 111,
   "metadata": {},
   "outputs": [
    {
     "data": {
      "text/html": [
       "<div>\n",
       "<style scoped>\n",
       "    .dataframe tbody tr th:only-of-type {\n",
       "        vertical-align: middle;\n",
       "    }\n",
       "\n",
       "    .dataframe tbody tr th {\n",
       "        vertical-align: top;\n",
       "    }\n",
       "\n",
       "    .dataframe thead th {\n",
       "        text-align: right;\n",
       "    }\n",
       "</style>\n",
       "<table border=\"1\" class=\"dataframe\">\n",
       "  <thead>\n",
       "    <tr style=\"text-align: right;\">\n",
       "      <th>Actual</th>\n",
       "      <th>&lt;=50K</th>\n",
       "      <th>&gt;50K</th>\n",
       "    </tr>\n",
       "    <tr>\n",
       "      <th>Predicted</th>\n",
       "      <th></th>\n",
       "      <th></th>\n",
       "    </tr>\n",
       "  </thead>\n",
       "  <tbody>\n",
       "    <tr>\n",
       "      <th>&lt;=50K</th>\n",
       "      <td>10100</td>\n",
       "      <td>1792</td>\n",
       "    </tr>\n",
       "    <tr>\n",
       "      <th>&gt;50K</th>\n",
       "      <td>2335</td>\n",
       "      <td>2054</td>\n",
       "    </tr>\n",
       "  </tbody>\n",
       "</table>\n",
       "</div>"
      ],
      "text/plain": [
       "Actual     <=50K  >50K\n",
       "Predicted             \n",
       "<=50K      10100  1792\n",
       ">50K        2335  2054"
      ]
     },
     "execution_count": 111,
     "metadata": {},
     "output_type": "execute_result"
    }
   ],
   "source": [
    "# Uncomment this cell when classifier 3 has been written\n",
    "#predictions=list(map(lambda x:(\">50K\" if x>0.5 else \"<=50K\"),ratios))\n",
    "#cm=pd.crosstab(pd.Series(predictions),test.salary,colnames=['Actual'],rownames=['Predicted'])\n",
    "#cm"
   ]
  },
  {
   "cell_type": "markdown",
   "metadata": {},
   "source": [
    "Graphs showing all the possible true positive and false positive rate combinations are known as receiver operating characteristic (ROC) curves.\n",
    "\n",
    "They always start in the bottom left corner (TPR=FPR=0) and end in the top right corner (TPR=FTP=1). Typically, the closer the curve gets to the top left corner the better."
   ]
  },
  {
   "cell_type": "markdown",
   "metadata": {},
   "source": [
    "## Plotting ROC Curves"
   ]
  },
  {
   "cell_type": "markdown",
   "metadata": {},
   "source": [
    "The `roc_curve` method in the `metrics` library can be used to draw ROC curves. Use this to draw the ROC curve for our classifier:"
   ]
  },
  {
   "cell_type": "code",
   "execution_count": 112,
   "metadata": {},
   "outputs": [
    {
     "data": {
      "text/plain": [
       "<matplotlib.axes._subplots.AxesSubplot at 0x7f8ad0358d10>"
      ]
     },
     "execution_count": 112,
     "metadata": {},
     "output_type": "execute_result"
    },
    {
     "data": {
      "image/png": "[encoded data removed]",
      "text/plain": [
       "<Figure size 432x288 with 1 Axes>"
      ]
     },
     "metadata": {
      "needs_background": "light"
     },
     "output_type": "display_data"
    }
   ],
   "source": [
    "# Uncomment this cell when classifier 3 has been written\n",
    "#from sklearn import metrics\n",
    "\n",
    "#fpr, tpr, _ = metrics.roc_curve(test.salary, ratios,pos_label=\">50K\")\n",
    "\n",
    "#df = pd.DataFrame(dict(fpr=fpr, tpr=tpr))\n",
    "#plt=df.plot(x=\"fpr\",y=\"tpr\",xlabel=\"False positive rate\", ylabel=\"True positive rate\")\n",
    "#plt"
   ]
  },
  {
   "cell_type": "markdown",
   "metadata": {},
   "source": [
    "Try using the `axhline` and `axvline` methods of the `plt` object that you created above to draw horizontal and vertical lines for the TPR and FPR that you calculated above."
   ]
  },
  {
   "cell_type": "code",
   "execution_count": 116,
   "metadata": {
    "scrolled": true
   },
   "outputs": [
    {
     "data": {
      "image/png": "[encoded data removed]",
      "text/plain": [
       "<Figure size 432x288 with 1 Axes>"
      ]
     },
     "execution_count": 116,
     "metadata": {},
     "output_type": "execute_result"
    }
   ],
   "source": [
    "plt.axhline(y=TPR, color='r', linestyle=\"--\")\n",
    "plt.axvline(x=FPR, color='g', linestyle=\":\")\n",
    "plt.figure"
   ]
  },
  {
   "cell_type": "markdown",
   "metadata": {},
   "source": [
    "The area under the ROC curve is a useful single measure of how good the classifier is. The `roc_auc_score` method can be used to return the area under the curve:"
   ]
  },
  {
   "cell_type": "code",
   "execution_count": 118,
   "metadata": {},
   "outputs": [],
   "source": [
    "# Uncomment this cell when classifier 3 has been written\n",
    "#metrics.roc_auc_score(test.salary, ratios)"
   ]
  },
  {
   "cell_type": "markdown",
   "metadata": {},
   "source": [
    "So, the area under the ROC curve for the Naïve Bayes classifier using just the **education** and **workclass** features is 0.72."
   ]
  },
  {
   "cell_type": "markdown",
   "metadata": {},
   "source": [
    "## Using continuous features"
   ]
  },
  {
   "cell_type": "markdown",
   "metadata": {},
   "source": [
    "\n",
    "For continuous features we must model the data using an appropriate distribution.\n",
    "\n",
    "Consider the age data in our data set. We can plot the density histogram of this feature for the low and high salary groups."
   ]
  },
  {
   "cell_type": "code",
   "execution_count": 119,
   "metadata": {},
   "outputs": [
    {
     "data": {
      "image/png": "[encoded data removed]",
      "text/plain": [
       "<Figure size 432x288 with 1 Axes>"
      ]
     },
     "metadata": {
      "needs_background": "light"
     },
     "output_type": "display_data"
    }
   ],
   "source": [
    "plt1=training.age[training.salary=='<=50K'].plot(kind=\"hist\", bins=15, density=True, ylabel=\"Density\", title=\"Age Histogram for salary <=50K\")\n"
   ]
  },
  {
   "cell_type": "code",
   "execution_count": 120,
   "metadata": {},
   "outputs": [
    {
     "data": {
      "image/png": "[encoded data removed]",
      "text/plain": [
       "<Figure size 432x288 with 1 Axes>"
      ]
     },
     "metadata": {
      "needs_background": "light"
     },
     "output_type": "display_data"
    }
   ],
   "source": [
    "plt2=training.age[training.salary=='>50K'].plot(kind=\"hist\", bins=15, density=True, ylabel=\"Density\", title=\"Age Histogram for salary >50K\")\n"
   ]
  },
  {
   "cell_type": "markdown",
   "metadata": {},
   "source": [
    "You can see that there is a clear difference between the two groups although there is considerable overlap.\n",
    "\n",
    "We wish to model these distributions using the normal distribution.\n",
    "\n",
    "Using `groupby` we can easily calculate the mean and standard distribution for the two groups:"
   ]
  },
  {
   "cell_type": "code",
   "execution_count": 121,
   "metadata": {},
   "outputs": [
    {
     "data": {
      "text/plain": [
       "salary\n",
       "<=50K    36.783738\n",
       ">50K     44.249841\n",
       "Name: age, dtype: float64"
      ]
     },
     "execution_count": 121,
     "metadata": {},
     "output_type": "execute_result"
    }
   ],
   "source": [
    "training.groupby(\"salary\").mean()['age']"
   ]
  },
  {
   "cell_type": "code",
   "execution_count": 122,
   "metadata": {},
   "outputs": [
    {
     "data": {
      "text/plain": [
       "salary\n",
       "<=50K    14.020088\n",
       ">50K     10.519028\n",
       "Name: age, dtype: float64"
      ]
     },
     "execution_count": 122,
     "metadata": {},
     "output_type": "execute_result"
    }
   ],
   "source": [
    "training.groupby(\"salary\").std()['age']"
   ]
  },
  {
   "cell_type": "markdown",
   "metadata": {},
   "source": [
    "To see how well the normal distribution matches the data we can plot the normal density curve on the histograms, e.g.,"
   ]
  },
  {
   "cell_type": "code",
   "execution_count": 123,
   "metadata": {},
   "outputs": [
    {
     "data": {
      "image/png": "[encoded data removed]",
      "text/plain": [
       "<Figure size 432x288 with 1 Axes>"
      ]
     },
     "execution_count": 123,
     "metadata": {},
     "output_type": "execute_result"
    }
   ],
   "source": [
    "import numpy as np\n",
    "from scipy.stats import norm\n",
    "\n",
    "mean=training.groupby(\"salary\").mean()['age']['<=50K']\n",
    "sd=training.groupby(\"salary\").std()['age']['<=50K']\n",
    "\n",
    "xmin = training.groupby(\"salary\")['age'].min()['<=50K']\n",
    "xmax = training.groupby(\"salary\")['age'].max()['<=50K']\n",
    "\n",
    "x = np.linspace(xmin, xmax, 100)\n",
    "p = norm.pdf(x, mean, sd)\n",
    "  \n",
    "plt1.plot(x, p, color='red')\n",
    "plt1.figure"
   ]
  },
  {
   "cell_type": "markdown",
   "metadata": {},
   "source": [
    "Do the same for the low Salary age's histogram."
   ]
  },
  {
   "cell_type": "markdown",
   "metadata": {},
   "source": [
    "The normal model looks more sensible for the high salary group but is less good a fit for the low salary group. Nonetheless we will carry on with these values and add the age feature into our classifier for illustration.\n",
    "\n",
    "Adjust your classifier3 to classifier4 to use the age feature:\n",
    "\n",
    "    Use the method norm.pdf for the normal density function\n",
    "\n",
    "If it's easier, don't worry about storing the results from the groupby function and indexing them in the code. Feel free to keep things simpler and type the mean and standard deviation numbers into your code for this exercise.\n",
    "\n",
    "Replot the ROC curve for the new classifier. Does it look better? What is the area under the curve now?\n"
   ]
  },
  {
   "cell_type": "code",
   "execution_count": 125,
   "metadata": {},
   "outputs": [],
   "source": [
    "#Insert your code here for classifier4\n"
   ]
  },
  {
   "cell_type": "code",
   "execution_count": 126,
   "metadata": {},
   "outputs": [
    {
     "data": {
      "text/plain": [
       "0.7928390501120648"
      ]
     },
     "execution_count": 126,
     "metadata": {},
     "output_type": "execute_result"
    },
    {
     "data": {
      "image/png": "[encoded data removed]",
      "text/plain": [
       "<Figure size 432x288 with 1 Axes>"
      ]
     },
     "metadata": {
      "needs_background": "light"
     },
     "output_type": "display_data"
    }
   ],
   "source": [
    "#Insert your code here for getting ratios,predictions, confusion matrix, ROC curve and AUC\n"
   ]
  },
  {
   "cell_type": "code",
   "execution_count": null,
   "metadata": {},
   "outputs": [],
   "source": []
  }
 ],
 "metadata": {
  "kernelspec": {
   "display_name": "Python 3",
   "language": "python",
   "name": "python3"
  },
  "language_info": {
   "codemirror_mode": {
    "name": "ipython",
    "version": 3
   },
   "file_extension": ".py",
   "mimetype": "text/x-python",
   "name": "python",
   "nbconvert_exporter": "python",
   "pygments_lexer": "ipython3",
   "version": "3.7.4"
  }
 },
 "nbformat": 4,
 "nbformat_minor": 5
}
