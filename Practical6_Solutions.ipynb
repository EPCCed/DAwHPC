{
 "cells": [
  {
   "cell_type": "code",
   "execution_count": null,
   "id": "978d6785-e505-4146-be45-2490db91ec7e",
   "metadata": {},
   "outputs": [],
   "source": [
    "import sklearn\n",
    "import sklearn.tree\n",
    "import numpy as np\n",
    "import pandas as pd\n",
    "import matplotlib.pyplot as plt"
   ]
  },
  {
   "cell_type": "markdown",
   "id": "9bbb5091-16ad-48d6-9047-c21c23fa8944",
   "metadata": {},
   "source": [
    "### Part 2 - Classification Tree"
   ]
  },
  {
   "cell_type": "code",
   "execution_count": null,
   "id": "6d6fd821-34a3-4a51-abcd-866e3f795581",
   "metadata": {},
   "outputs": [],
   "source": [
    "carseats_df = pd.read_csv(\"DatasetsForPracticals/DecisionTreesAndForests/carseats.csv\")\n",
    "carseats_df = pd.get_dummies(carseats_df, columns=[\"ShelveLoc\"])\n",
    "to_bool = {'Yes': True, 'No': False}\n",
    "carseats_df[\"Urban\"] = carseats_df[\"Urban\"].map(to_bool)\n",
    "carseats_df[\"US\"] = carseats_df[\"US\"].map(to_bool)\n",
    "carseats_df[\"HighSales\"] = carseats_df[\"Sales\"] > 8\n",
    "\n",
    "X_train, X_test, y_train, y_test = sklearn.model_selection.train_test_split(\n",
    "    carseats_df.drop(columns=[\"Sales\", \"HighSales\"]),\n",
    "    carseats_df[\"HighSales\"],\n",
    "    test_size=0.2,\n",
    "    random_state=0,\n",
    ")\n",
    "\n",
    "tree_params = {\n",
    "    \"criterion\": \"gini\",\n",
    "    \"max_depth\": 6,\n",
    "    \"random_state\": 0,\n",
    "}\n",
    "\n",
    "tree_split = sklearn.tree.DecisionTreeClassifier(**tree_params)\n",
    "tree_split.fit(X_train, y_train)\n",
    "\n",
    "print(\"Feature importances:\")\n",
    "tree_importances = pd.Series(tree_split.feature_importances_, index=X_train.columns)\n",
    "display(tree_importances.sort_values(ascending=False))\n",
    "\n",
    "print()\n",
    "print(\"Depth: \", tree_split.get_depth())\n",
    "print(\"Leaf nodes: \", tree_split.get_n_leaves())\n",
    "\n",
    "pd.crosstab(tree_split.predict(X_test), y_test, margins=True, rownames=[\"Predicted\"], colnames=[\"Actual\"])\n",
    "\n",
    "print(f\"Accuracy: {tree_split.score(X_test, y_test)*100}%\")"
   ]
  }
 ],
 "metadata": {
  "kernelspec": {
   "display_name": "Python 3 (ipykernel)",
   "language": "python",
   "name": "python3"
  },
  "language_info": {
   "codemirror_mode": {
    "name": "ipython",
    "version": 3
   },
   "file_extension": ".py",
   "mimetype": "text/x-python",
   "name": "python",
   "nbconvert_exporter": "python",
   "pygments_lexer": "ipython3",
   "version": "3.10.8"
  }
 },
 "nbformat": 4,
 "nbformat_minor": 5
}
