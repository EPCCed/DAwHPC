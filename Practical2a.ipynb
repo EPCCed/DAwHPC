{
 "cells": [
  {
   "cell_type": "markdown",
   "id": "90cbe235-848a-4051-a08c-30f46b02ede4",
   "metadata": {},
   "source": [
    "# Data Analytics with High Performance Computing - Practical 2\n",
    "## Data Cleaning"
   ]
  },
  {
   "cell_type": "markdown",
   "id": "a0864c9e-98d1-429a-92d0-32af6f76da46",
   "metadata": {},
   "source": [
    "### Learning outcomes"
   ]
  },
  {
   "cell_type": "markdown",
   "id": "72cefd17-2f52-4ca0-a42b-c754f4ba8d8e",
   "metadata": {},
   "source": [
    "Practice some common techniques for data cleaning with Python, using functionality of the Pandas library.\n",
    "*  Part 1 - (Practical2a.ipynb) reading data, data exploration, data typing, coercion.\n",
    "*  Part 2 - (Practical2b.ipynb) dealing with unstructured data, pattern matching, regular expressions, handling missing data, more typing and coercion, standardisation."
   ]
  },
  {
   "cell_type": "markdown",
   "id": "0c0dca21-5a14-443a-ba1c-f3625ce72063",
   "metadata": {},
   "source": [
    "### 1. Reading and cleaning data"
   ]
  },
  {
   "cell_type": "markdown",
   "id": "4be87e51-67ca-49f5-a578-ed52ce77f1ea",
   "metadata": {},
   "source": [
    "Import Pandas and NumPy"
   ]
  },
  {
   "cell_type": "code",
   "execution_count": null,
   "id": "86a6b096-9d3e-4d12-a393-43e05f1ab227",
   "metadata": {},
   "outputs": [],
   "source": [
    "import pandas as pd\n",
    "import numpy as np"
   ]
  },
  {
   "cell_type": "markdown",
   "id": "39d0fec9-21f6-4d15-b272-9ebfdecc4864",
   "metadata": {},
   "source": [
    "Use pd.read_csv() to read in a CSV file containing some data."
   ]
  },
  {
   "cell_type": "code",
   "execution_count": null,
   "id": "1430090c-1386-4117-9a67-15c56f0dced0",
   "metadata": {},
   "outputs": [],
   "source": [
    "pd.read_csv('somedata.csv')"
   ]
  },
  {
   "cell_type": "markdown",
   "id": "68da5ea4-8bb2-402f-875f-b3b67243a309",
   "metadata": {},
   "source": [
    "The CSV file didn't contain a header row!"
   ]
  },
  {
   "cell_type": "code",
   "execution_count": null,
   "id": "0c7c5b70-352e-4c1a-996c-82af8ff8ca3a",
   "metadata": {},
   "outputs": [],
   "source": [
    "pd.read_csv('somedata.csv',header=None)"
   ]
  },
  {
   "cell_type": "markdown",
   "id": "29a7eb26-a537-4479-9cca-315290e44ebe",
   "metadata": {},
   "source": [
    "You have a bit of information - the file contains ages and heights of people.<br/>\n",
    "Read it in again, but this time pass a list of column names."
   ]
  },
  {
   "cell_type": "code",
   "execution_count": null,
   "id": "eb3e8cee-4ae5-4c40-9419-6ad76f2456e5",
   "metadata": {},
   "outputs": [],
   "source": [
    "pd.read_csv('somedata.csv',header=None,names=['age','height'])"
   ]
  },
  {
   "cell_type": "markdown",
   "id": "7a979d50-4964-4c39-9aa4-edda67804575",
   "metadata": {},
   "source": [
    "Store that data in memory as a Pandas DataFrame object."
   ]
  },
  {
   "cell_type": "code",
   "execution_count": null,
   "id": "fd07a588-b6cb-41b4-94ed-287944c4c618",
   "metadata": {},
   "outputs": [],
   "source": [
    "person = pd.read_csv('somedata.csv',header=None,names=['age','height'])\n",
    "person"
   ]
  },
  {
   "cell_type": "markdown",
   "id": "81b6fdb5-78d4-4256-81e4-2a0aed7813ec",
   "metadata": {},
   "source": [
    "The data isn't clean yet - use DataFrame.info() to have a look."
   ]
  },
  {
   "cell_type": "code",
   "execution_count": null,
   "id": "454fffed-acdd-49b3-b67b-2a27d75ccd20",
   "metadata": {},
   "outputs": [],
   "source": [
    "person.info()"
   ]
  },
  {
   "cell_type": "markdown",
   "id": "7d7d5381-a816-4606-b3e9-13775fd8f4f2",
   "metadata": {},
   "source": [
    "'age' is an integer object, which makes sense, but 'height' is a generic 'object'. Also, we are told both columns contain 4 \"non-null\" values, but there is a 'NA' entry.<br/>\n",
    "Let's attempt to set the datatypes of 'age' and 'height' values to NumPy int and float values respectively."
   ]
  },
  {
   "cell_type": "code",
   "execution_count": null,
   "id": "51b7042d-a553-4176-8c7d-8200ad9e44f3",
   "metadata": {},
   "outputs": [],
   "source": [
    "person = pd.read_csv('somedata.csv',header=None,names=['age','height'],dtype={'age':np.int,'height':np.float})"
   ]
  },
  {
   "cell_type": "markdown",
   "id": "0af56db7-97db-49f7-827c-5e3c9ae7aa68",
   "metadata": {},
   "source": [
    "The values '5.7*' is causing a ValueError to be raised.<br/>\n",
    "Let's put the pd.read_csv() call inside a try...except statement to get a more readable error message:"
   ]
  },
  {
   "cell_type": "code",
   "execution_count": null,
   "id": "7b5939fd-4775-49da-b805-49c3fbddcc12",
   "metadata": {
    "tags": []
   },
   "outputs": [],
   "source": [
    "try:\n",
    "    person = pd.read_csv('somedata.csv',header=None,names=['age','height'],dtype={'age':np.int,'height':np.float})\n",
    "except ValueError as e:\n",
    "    print(e)"
   ]
  },
  {
   "cell_type": "markdown",
   "id": "d12fb807-159b-47df-87cd-076f17b89fd2",
   "metadata": {},
   "source": [
    "We cannot apply datatypes to data before cleaning!\n",
    "Instead, read in the data as before, then use coercion."
   ]
  },
  {
   "cell_type": "code",
   "execution_count": null,
   "id": "39376165-60f7-45d1-b979-ad43ad35bf0d",
   "metadata": {},
   "outputs": [],
   "source": [
    "person = pd.read_csv('somedata.csv',header=None,names=['age','height'])\n",
    "person"
   ]
  },
  {
   "cell_type": "code",
   "execution_count": null,
   "id": "c6da9840-96af-4426-8a4c-93b11fbe23ab",
   "metadata": {},
   "outputs": [],
   "source": [
    "person.info() # as before"
   ]
  },
  {
   "cell_type": "markdown",
   "id": "2e994ac0-4080-431c-a0e2-430e56d3515a",
   "metadata": {},
   "source": [
    "Now convert the 'height' column to numerical data with \"errors='coerce'\". This means if any values cannot be converted to numerical, they are replace with NaN (not a number) values."
   ]
  },
  {
   "cell_type": "code",
   "execution_count": null,
   "id": "00115187-44b2-4bb6-bb7b-6d33ed8931b6",
   "metadata": {},
   "outputs": [],
   "source": [
    "person['height'] = pd.to_numeric(person['height'],errors='coerce')\n",
    "person"
   ]
  },
  {
   "cell_type": "code",
   "execution_count": null,
   "id": "07495414-a4ae-4e05-bec7-c668f024bd1d",
   "metadata": {},
   "outputs": [],
   "source": [
    "person.info()"
   ]
  },
  {
   "cell_type": "markdown",
   "id": "711ace94-6b5d-4961-bc43-f4d414971c25",
   "metadata": {},
   "source": [
    "Finally, we see all values are of the correct datatypes and values that were inconsistent with these datatypes are NaN values. DataFrame.info() now reports 2 of the 4 entries in the 'height' column are non-null."
   ]
  },
  {
   "cell_type": "markdown",
   "id": "12a839e6-ada8-486e-9ea3-2424ba5cc8e1",
   "metadata": {},
   "source": [
    "__Now move on to Practical2b.ipynb__"
   ]
  },
  {
   "cell_type": "code",
   "execution_count": null,
   "id": "f8c30004-e5ec-4847-aa2f-64e84594b91e",
   "metadata": {},
   "outputs": [],
   "source": []
  }
 ],
 "metadata": {
  "kernelspec": {
   "display_name": "Python 3 (ipykernel)",
   "language": "python",
   "name": "python3"
  },
  "language_info": {
   "codemirror_mode": {
    "name": "ipython",
    "version": 3
   },
   "file_extension": ".py",
   "mimetype": "text/x-python",
   "name": "python",
   "nbconvert_exporter": "python",
   "pygments_lexer": "ipython3",
   "version": "3.9.12"
  }
 },
 "nbformat": 4,
 "nbformat_minor": 5
}
