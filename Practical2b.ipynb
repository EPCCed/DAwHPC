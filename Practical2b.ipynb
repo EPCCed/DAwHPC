{
 "cells": [
  {
   "cell_type": "markdown",
   "id": "4e6066d8-d22f-4a7c-bf84-eaac2ce9ad95",
   "metadata": {},
   "source": [
    "# Data Analytics with High Performance Computing - Practical 2\n",
    "## Data Cleaning"
   ]
  },
  {
   "cell_type": "markdown",
   "id": "e5bfb147-2748-4afd-b54f-abb33cb2ef17",
   "metadata": {},
   "source": [
    "### 2. Unstructured data - \"Dalton Brothers\""
   ]
  },
  {
   "cell_type": "code",
   "execution_count": null,
   "id": "86a6b096-9d3e-4d12-a393-43e05f1ab227",
   "metadata": {},
   "outputs": [],
   "source": [
    "import pandas as pd\n",
    "import numpy as np"
   ]
  },
  {
   "cell_type": "markdown",
   "id": "8f35f799-21a3-4974-a1e3-d33a193db189",
   "metadata": {},
   "source": [
    "Start by reading the file to determine its basic structure."
   ]
  },
  {
   "cell_type": "markdown",
   "id": "37ff3e72-3f1a-4ed6-8803-2f76f4a28730",
   "metadata": {},
   "source": [
    "This time we'll keep the path in a `string` variable to make our code neater."
   ]
  },
  {
   "cell_type": "code",
   "execution_count": null,
   "id": "4940f9f8-bc20-44df-9022-916ad6709885",
   "metadata": {},
   "outputs": [],
   "source": [
    "daltons_path = \"DatasetsForPracticals/DataCleaning/daltons.txt\""
   ]
  },
  {
   "cell_type": "markdown",
   "id": "87cfe319-690f-4d8f-8a19-26a33abb28e0",
   "metadata": {},
   "source": [
    "We use the `with open` statement to create a file object, then use the readlines() function to produce a list where each entry is a line of the file."
   ]
  },
  {
   "cell_type": "code",
   "execution_count": null,
   "id": "daef75b1-296d-44c2-977d-0cb11de8dd89",
   "metadata": {},
   "outputs": [],
   "source": [
    "with open (daltons_path, \"r\") as daltons_file:\n",
    "    daltons_lines = daltons_file.readlines()\n",
    "daltons_lines"
   ]
  },
  {
   "cell_type": "markdown",
   "id": "970fbb53-916d-4c49-86b7-26b9644b87aa",
   "metadata": {},
   "source": [
    "Note '\\n' newline characters."
   ]
  },
  {
   "cell_type": "markdown",
   "id": "3af052fe-6f1f-42c0-a47b-553aba25f747",
   "metadata": {},
   "source": [
    "We can loop over the lines of the files and use the str.strip() function to remove leading white space and new line characters."
   ]
  },
  {
   "cell_type": "code",
   "execution_count": null,
   "id": "e28df23c-9222-4bae-a2ad-327716ff4e94",
   "metadata": {},
   "outputs": [],
   "source": [
    "with open (daltons_path, \"r\") as daltons_file:\n",
    "    daltons_lines = []\n",
    "    for line in daltons_file.readlines():\n",
    "        daltons_lines.append(line.strip())\n",
    "daltons_lines"
   ]
  },
  {
   "cell_type": "markdown",
   "id": "b118b402-f362-45f3-bb5b-7973eb4026c0",
   "metadata": {},
   "source": [
    "We can see that the data lines are in a comma-separated value (CSV) form, with comment lines starting with '%' symbols. There is no obvious header row.<br/>\n",
    "Using a Python \"list comprehension\", we can coerce the data into sublists (`str.split(',')`) and ignore comments (`if not x.startswith('%')`).<br/>\n",
    "This one line can be though of as a compact version of:\n",
    "```\n",
    "daltons_data = []\n",
    "for x in daltons_lines:\n",
    "    if not x.startswith('%'):\n",
    "        daltons_data.append(x.split(','))\n",
    "```"
   ]
  },
  {
   "cell_type": "code",
   "execution_count": null,
   "id": "f3f3290d-5151-4086-986c-1152bd484194",
   "metadata": {},
   "outputs": [],
   "source": [
    "daltons_data = [x.split(',') for x in daltons_lines if not x.startswith(\"%\")]\n",
    "daltons_data"
   ]
  },
  {
   "cell_type": "markdown",
   "id": "befb97e9-2653-4849-a242-985a13d60db9",
   "metadata": {},
   "source": [
    "We can now create a Pandas DataFrame from our list."
   ]
  },
  {
   "cell_type": "code",
   "execution_count": null,
   "id": "c6674b1a-748d-41ea-a773-71fbb1c53515",
   "metadata": {},
   "outputs": [],
   "source": [
    "daltons_df = pd.DataFrame(daltons_data)\n",
    "daltons_df"
   ]
  },
  {
   "cell_type": "markdown",
   "id": "77f9e2fd-9d73-4fae-973e-e70f1a9258b0",
   "metadata": {},
   "source": [
    "We have a dataframe, but it's a mess. There are no column names and some of the data in rows is in the wrong order.\n",
    "\n",
    "First, let's fix the column names."
   ]
  },
  {
   "cell_type": "code",
   "execution_count": null,
   "id": "ea13ea94-a3ad-4fec-84c4-060f2ed8730f",
   "metadata": {},
   "outputs": [],
   "source": [
    "daltons_df = pd.DataFrame(daltons_data,columns=['Name','DOB','DOD'])\n",
    "daltons_df"
   ]
  },
  {
   "cell_type": "markdown",
   "id": "1e99cd1f-61b7-4add-8a74-d31faf43e860",
   "metadata": {},
   "source": [
    "It's clear now that the data in rows is not in a consistent order.\n",
    "Start by ensuring names are in the correct column."
   ]
  },
  {
   "cell_type": "code",
   "execution_count": null,
   "id": "41eb339e-859b-4487-9368-21c29fd364c9",
   "metadata": {},
   "outputs": [],
   "source": [
    "#object to hold a piece of data to move\n",
    "misplaced_datum = None\n",
    "#loop over rows of the DataFrame - each row is a Pandas Series object.\n",
    "for i,row in daltons_df.iterrows():\n",
    "    print(row) # row is a view of the row, not the row itself\n",
    "    #'Name' is the only column that contains a word, orthers contain numbers, so just use str.isalpha() - returns True is the string only contains letter characters.\n",
    "    #Note we have not coerced any data yet, so all data are strings. None is Python's null object.\n",
    "    \n",
    "    #if the 'Name' entry does not only contain letters, then the actual name must be in the DOB or the DOD column.\n",
    "    if not row['Name'].isalpha():\n",
    "        print(i,row['Name'])\n",
    "        if row['DOB'].isalpha():\n",
    "            #Name is in DOB column\n",
    "            print(i,row['DOB'])\n",
    "            misplaced_datum = row['Name'] # take a copy of whatever is in the 'Name' column\n",
    "            row['Name'] = row['DOB'] # set the 'Name' entry to the 'DOB' entry\n",
    "            row['DOB'] = misplaced_datum # set the 'DOB' entry to the value that was in the 'Name' column\n",
    "        elif row['DOD'].isalpha():\n",
    "            print(i,row['DOD'])\n",
    "            misplaced_datum = row['Name']\n",
    "            row['Name'] = row['DOD']\n",
    "            row['DOD'] = misplaced_datum\n",
    "        daltons_df.iloc[i] = row # replace the row in daltons_df with the row object we've just modified\n",
    "    print(row)"
   ]
  },
  {
   "cell_type": "code",
   "execution_count": null,
   "id": "616c5bfb-17b0-4f02-b8d4-e57a4c5dd2bf",
   "metadata": {},
   "outputs": [],
   "source": [
    "daltons_df"
   ]
  },
  {
   "cell_type": "markdown",
   "id": "6f73bfea-40b1-467a-bba4-17f6706ba7c9",
   "metadata": {},
   "source": [
    "Now convert numerical data to numerical dtypes."
   ]
  },
  {
   "cell_type": "code",
   "execution_count": null,
   "id": "480107f7-de5a-4b29-90bf-7f258b922fb4",
   "metadata": {},
   "outputs": [],
   "source": [
    "daltons_df['DOB'] = pd.to_numeric(daltons_df['DOB'],errors='coerce')\n",
    "daltons_df['DOD'] = pd.to_numeric(daltons_df['DOD'],errors='coerce')\n",
    "daltons_df"
   ]
  },
  {
   "cell_type": "markdown",
   "id": "972ad3eb-65d0-461c-8e7e-7a191e457359",
   "metadata": {},
   "source": [
    "We are told all Dalton brothers with born before 1890 and all died after 1890.<br/>\n",
    "Use this information to check 'DOB' and 'DOD' entries."
   ]
  },
  {
   "cell_type": "code",
   "execution_count": null,
   "id": "82699284-5124-42d7-a1ec-2fac8f33983e",
   "metadata": {},
   "outputs": [],
   "source": [
    "#object to hold a piece of data to move\n",
    "misplaced_datum = None\n",
    "#loop over rows of the DataFrame - each row is a Pandas Series object.\n",
    "for i,row in daltons_df.iterrows():\n",
    "    #If the value in the 'DOB' column is after 1890, swap the 'DOB' and 'DOD' entries\n",
    "    if row['DOB'] > 1890:\n",
    "        print(i,row['DOB'])\n",
    "        misplaced_datum = row['DOB']\n",
    "        row['DOB'] = row['DOD']\n",
    "        row['DOD'] = misplaced_datum\n",
    "        print(i,row['DOB'])\n",
    "        daltons_df.iloc[i] = row\n",
    "    print(row)"
   ]
  },
  {
   "cell_type": "markdown",
   "id": "9a325492-8d0d-4d88-9d5d-c7d5265d4b89",
   "metadata": {},
   "source": [
    "Now have another look at the DataFrame.<br/>\n"
   ]
  },
  {
   "cell_type": "code",
   "execution_count": null,
   "id": "53c1aa1a-96b3-4aaa-a717-562a61f8a780",
   "metadata": {},
   "outputs": [],
   "source": [
    "daltons_df.info()"
   ]
  },
  {
   "cell_type": "code",
   "execution_count": null,
   "id": "912f5c73-68de-4e2d-af9d-25539ed14d4e",
   "metadata": {},
   "outputs": [],
   "source": [
    "daltons_df"
   ]
  },
  {
   "cell_type": "markdown",
   "id": "21a8563b-37a7-4518-b505-99e455fe4761",
   "metadata": {},
   "source": [
    "__Correct types__ - Can we convert years from `float` to `int` object?"
   ]
  },
  {
   "cell_type": "code",
   "execution_count": null,
   "id": "7d3f02f1-7f07-4a21-b70d-497222700e53",
   "metadata": {},
   "outputs": [],
   "source": [
    "#Create a \"type dictionary\" of column names and dtypes and pass to pd.DataFrame.astype()\n",
    "dtypes = {'Name': str, 'DOB': int, 'DOD': int}\n",
    "daltons_df = daltons_df.astype(dtypes,errors='ignore')\n",
    "daltons_df.info()"
   ]
  },
  {
   "cell_type": "markdown",
   "id": "128910aa-0aa9-42dc-9644-748b91ea7a85",
   "metadata": {},
   "source": [
    "DOD values have changed to integers, but DOB values are still floats. Maybe you noticed this happened to the 'height' column in Part 2a of this practical!<br/>\n",
    "What has gone wrong? Let's change `errors='ignore'` to `errors='raise'` to check."
   ]
  },
  {
   "cell_type": "code",
   "execution_count": null,
   "id": "c9cb0eaf-f6c3-45d0-a368-65c14fc8fec8",
   "metadata": {},
   "outputs": [],
   "source": [
    "daltons_df = daltons_df.astype(dtypes,errors='raise') # intentionally causes an error!\n",
    "daltons_df"
   ]
  },
  {
   "cell_type": "markdown",
   "id": "c3ac0eb2-7777-4013-ab03-c3554e5fb694",
   "metadata": {},
   "source": [
    "This error tells us that the `NaN` cannot be converted to a Python integer, `int`.<br/>\n",
    "But, as Pandas 0.24.4 (January 2019), there is a <a href='https://pandas.pydata.org/pandas-docs/version/0.24/whatsnew/v0.24.0.html#optional-integer-na-supporthttps://pandas.pydata.org/pandas-docs/version/0.24/whatsnew/v0.24.0.html#optional-integer-na-support'>solution</a> to this!<br/>\n",
    "Pandas dtype `Int64` (note the capital 'I') offers \"optional NA integer support\". Pandas will use its own dtypes if the name of the dtype is given as a string."
   ]
  },
  {
   "cell_type": "code",
   "execution_count": null,
   "id": "d28891b7-d2b3-4e15-8bef-48014f1231eb",
   "metadata": {},
   "outputs": [],
   "source": [
    "dtypes = {'Name': 'str', 'DOB': 'Int64', 'DOD': 'Int64'}\n",
    "daltons_df = daltons_df.astype(dtypes,errors='raise')\n",
    "daltons_df"
   ]
  },
  {
   "cell_type": "markdown",
   "id": "1bdb5c18-1de1-419c-a60c-dfb658edb25f",
   "metadata": {},
   "source": [
    "__Standardisation__"
   ]
  },
  {
   "cell_type": "markdown",
   "id": "e545a622-175b-4339-9c58-7b4774b95aa6",
   "metadata": {},
   "source": [
    "Finally, we wish to use the above code in a repeatable manner. To to this, we should save it as a Python script (`.py`) and make some changes.<br/>\n",
    "Run the cell below to convert this IPython Notebook to a Python script."
   ]
  },
  {
   "cell_type": "code",
   "execution_count": null,
   "id": "7099b017-d584-4aff-8e24-9d1e28745442",
   "metadata": {},
   "outputs": [],
   "source": [
    "!jupyter nbconvert --to script 'Practical2b.ipynb'"
   ]
  },
  {
   "cell_type": "markdown",
   "id": "e7b14d59-5472-425d-947f-c92b1e6a43ed",
   "metadata": {},
   "source": [
    "Now open Practical2b.py from the navigation pane - it will open as a new tab, but refer back here for instructions."
   ]
  },
  {
   "cell_type": "markdown",
   "id": "7ba298a7-5f15-48fd-9acd-17469842dc51",
   "metadata": {},
   "source": [
    "__Python script editing__"
   ]
  },
  {
   "cell_type": "markdown",
   "id": "f746124c-6749-466e-a2d8-b73108a4546a",
   "metadata": {},
   "source": [
    "The first thing to note is Markdown cells and input markers (e.g., `# In[1]:`) are given as comments (leading `#`).<br>\n",
    "The Markdown lines are useful - leave them in. But the input markers are not required, so delete these lines."
   ]
  },
  {
   "cell_type": "markdown",
   "id": "5e0c5fb4-f14a-45c9-8046-f4fed8496122",
   "metadata": {},
   "source": [
    "Next, lines that are intended for interaction with the IPython system should be dealt with. These are where we simply have a variable name or some output call on a line, such as \"`daltons_lines`\", \"`daltons_df`\" or \"`daltons_df.info()`\". These can either be removed completely, or, if you fine the output useful, should be put into Python `print()` function calls, e.g., `print(daltons_df)`. Perhaps the last of these lines could be printed so the user sees the form of the final DataFrame on standard output."
   ]
  },
  {
   "cell_type": "markdown",
   "id": "c7016c78-5a99-46eb-8c24-8e7649f4f87d",
   "metadata": {},
   "source": [
    "Now, in a step that wouldn't normally be required, we need to remove erroneous lines. Remember we converted types incorrectly? Remove the lines between \"# \\_\\_Correct types\\_\\_ - Can we convert years...?\" and \"# Pandas dtype `Int64`...\" to leave only the _correct_ `dtypes` dictionary declaration and `astype` call."
   ]
  },
  {
   "cell_type": "markdown",
   "id": "89fc6b7e-596e-4a7f-937b-642d764356db",
   "metadata": {},
   "source": [
    "Optionally, since some Python documentation generators, such as `sphinx`, can interpret Markdown comments in so-called doctstrings, the `#` characters could be removed from Markdown lines and replaced with triple quotes `\"\"\" ... \"\"\"` (over single or multiple lines). This makes documentation much quicker!"
   ]
  },
  {
   "cell_type": "markdown",
   "id": "bfa09f52-2852-488f-83a2-3ad8d586d5f6",
   "metadata": {},
   "source": [
    "Finally, try running the script by running the cell below.<br/>\n",
    "Also, try running in a terminal tab (hit the <kbd>+</kbd> button above to open a Launcher tab and choose Other - Terminal). Then, navigate to the folder containing your Practical2b.py file and type `python Practical2b.py`"
   ]
  },
  {
   "cell_type": "code",
   "execution_count": null,
   "id": "2ac237c8-ee6c-4399-989e-1ef92a315218",
   "metadata": {},
   "outputs": [],
   "source": [
    "!python Practical2b.py"
   ]
  },
  {
   "cell_type": "code",
   "execution_count": null,
   "id": "735f1282-b82e-4fd9-9609-6a102f52cc5c",
   "metadata": {},
   "outputs": [],
   "source": []
  }
 ],
 "metadata": {
  "kernelspec": {
   "display_name": "Python 3 (ipykernel)",
   "language": "python",
   "name": "python3"
  },
  "language_info": {
   "codemirror_mode": {
    "name": "ipython",
    "version": 3
   },
   "file_extension": ".py",
   "mimetype": "text/x-python",
   "name": "python",
   "nbconvert_exporter": "python",
   "pygments_lexer": "ipython3",
   "version": "3.9.12"
  }
 },
 "nbformat": 4,
 "nbformat_minor": 5
}
