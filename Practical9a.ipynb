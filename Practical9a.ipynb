{
 "cells": [
  {
   "cell_type": "markdown",
   "id": "9f61629d-f90b-4ae0-9393-634c5df93ece",
   "metadata": {},
   "source": [
    "Note: requires module load pytorch (cpu, then GPU). Students need to do be told outside of the notebook - on Learn?\n",
    "```\n",
    "module load pytorch/1.12.1\n",
    "jupyter lab --ip=0.0.0.0 --no-browser --port=8991\n",
    "```\n",
    "Do practical9a.ipynb<br>\n",
    "exit jupyter\n",
    "```\n",
    "module load pytorch/1.12.1-gpu\n",
    "jupyter lab --ip=0.0.0.0 --no-browser --port=8991\n",
    "```\n",
    "Do practical9b.ipynb"
   ]
  },
  {
   "cell_type": "code",
   "execution_count": null,
   "id": "3437b8fa-3f5a-476c-902f-708a37034740",
   "metadata": {},
   "outputs": [],
   "source": []
  }
 ],
 "metadata": {
  "kernelspec": {
   "display_name": "Python 3 (ipykernel)",
   "language": "python",
   "name": "python3"
  },
  "language_info": {
   "codemirror_mode": {
    "name": "ipython",
    "version": 3
   },
   "file_extension": ".py",
   "mimetype": "text/x-python",
   "name": "python",
   "nbconvert_exporter": "python",
   "pygments_lexer": "ipython3",
   "version": "3.9.12"
  }
 },
 "nbformat": 4,
 "nbformat_minor": 5
}
