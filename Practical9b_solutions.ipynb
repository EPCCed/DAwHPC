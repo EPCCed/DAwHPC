{
 "cells": [
  {
   "cell_type": "markdown",
   "id": "c37f142e-0ba5-45ee-896b-3e2ef32b6f60",
   "metadata": {},
   "source": [
    "# Neural Networks with a Deep Learning Framework - PyTorch"
   ]
  },
  {
   "cell_type": "markdown",
   "id": "39cbb9e6-1c90-486f-bb50-30bd809862a9",
   "metadata": {},
   "source": [
    "1. In Practical9a.ipynb, we will first look at the same problem from the Practical 8 - classification of sklearn \"moons\".\n",
    "2. Then, in Practical9b.ipynb, we will look at a far more complex problem of classification of hand-written numbers in the MNIST dataset."
   ]
  },
  {
   "cell_type": "markdown",
   "id": "ab3f2d4b-df9d-4ded-bdab-c7ff217394e7",
   "metadata": {},
   "source": [
    "Import libraries"
   ]
  },
  {
   "cell_type": "code",
   "execution_count": 18,
   "id": "e85b7ed5-5bf0-4da5-a9a4-2433000ed4d5",
   "metadata": {},
   "outputs": [],
   "source": [
    "%matplotlib inline  \n",
    "import torch\n",
    "import torch.nn as nn\n",
    "from torch.autograd import Variable\n",
    "from torch.utils.data import DataLoader\n",
    "import pandas as pd\n",
    "from sklearn.model_selection import train_test_split\n",
    "import numpy as np\n",
    "import matplotlib.pyplot as plt\n",
    "# from matplotlib.colors import ListedColormap"
   ]
  },
  {
   "cell_type": "markdown",
   "id": "b6b23bac-bcfc-43f7-93c1-a6a052ac2681",
   "metadata": {},
   "source": [
    "__Load dataset__\n",
    "- `train.csv` is a copy of the MNIST dataset (torchvision.datasets.MNIST()) that has been converted from image data to numerical CSV data"
   ]
  },
  {
   "cell_type": "code",
   "execution_count": 2,
   "id": "932b6cb3-1247-4ccb-a849-7b983f8ac08d",
   "metadata": {},
   "outputs": [],
   "source": [
    "train = pd.read_csv(r\"temp/input/train.csv\",dtype = np.float32)"
   ]
  },
  {
   "cell_type": "markdown",
   "id": "29e2a298-4ae4-43e4-bb64-4181a8e5a5b3",
   "metadata": {},
   "source": [
    "- Each row is an image\n",
    "- The label represents the handwritten number\n",
    "- pixel0 to pixel783 represent a 28x28 pixel image"
   ]
  },
  {
   "cell_type": "code",
   "execution_count": 3,
   "id": "220a3bbf-96ec-4ded-940c-df895f92556a",
   "metadata": {},
   "outputs": [
    {
     "data": {
      "text/html": [
       "<div>\n",
       "<style scoped>\n",
       "    .dataframe tbody tr th:only-of-type {\n",
       "        vertical-align: middle;\n",
       "    }\n",
       "\n",
       "    .dataframe tbody tr th {\n",
       "        vertical-align: top;\n",
       "    }\n",
       "\n",
       "    .dataframe thead th {\n",
       "        text-align: right;\n",
       "    }\n",
       "</style>\n",
       "<table border=\"1\" class=\"dataframe\">\n",
       "  <thead>\n",
       "    <tr style=\"text-align: right;\">\n",
       "      <th></th>\n",
       "      <th>label</th>\n",
       "      <th>pixel0</th>\n",
       "      <th>pixel1</th>\n",
       "      <th>pixel2</th>\n",
       "      <th>pixel3</th>\n",
       "      <th>pixel4</th>\n",
       "      <th>pixel5</th>\n",
       "      <th>pixel6</th>\n",
       "      <th>pixel7</th>\n",
       "      <th>pixel8</th>\n",
       "      <th>...</th>\n",
       "      <th>pixel774</th>\n",
       "      <th>pixel775</th>\n",
       "      <th>pixel776</th>\n",
       "      <th>pixel777</th>\n",
       "      <th>pixel778</th>\n",
       "      <th>pixel779</th>\n",
       "      <th>pixel780</th>\n",
       "      <th>pixel781</th>\n",
       "      <th>pixel782</th>\n",
       "      <th>pixel783</th>\n",
       "    </tr>\n",
       "  </thead>\n",
       "  <tbody>\n",
       "    <tr>\n",
       "      <th>0</th>\n",
       "      <td>1.0</td>\n",
       "      <td>0.0</td>\n",
       "      <td>0.0</td>\n",
       "      <td>0.0</td>\n",
       "      <td>0.0</td>\n",
       "      <td>0.0</td>\n",
       "      <td>0.0</td>\n",
       "      <td>0.0</td>\n",
       "      <td>0.0</td>\n",
       "      <td>0.0</td>\n",
       "      <td>...</td>\n",
       "      <td>0.0</td>\n",
       "      <td>0.0</td>\n",
       "      <td>0.0</td>\n",
       "      <td>0.0</td>\n",
       "      <td>0.0</td>\n",
       "      <td>0.0</td>\n",
       "      <td>0.0</td>\n",
       "      <td>0.0</td>\n",
       "      <td>0.0</td>\n",
       "      <td>0.0</td>\n",
       "    </tr>\n",
       "    <tr>\n",
       "      <th>1</th>\n",
       "      <td>0.0</td>\n",
       "      <td>0.0</td>\n",
       "      <td>0.0</td>\n",
       "      <td>0.0</td>\n",
       "      <td>0.0</td>\n",
       "      <td>0.0</td>\n",
       "      <td>0.0</td>\n",
       "      <td>0.0</td>\n",
       "      <td>0.0</td>\n",
       "      <td>0.0</td>\n",
       "      <td>...</td>\n",
       "      <td>0.0</td>\n",
       "      <td>0.0</td>\n",
       "      <td>0.0</td>\n",
       "      <td>0.0</td>\n",
       "      <td>0.0</td>\n",
       "      <td>0.0</td>\n",
       "      <td>0.0</td>\n",
       "      <td>0.0</td>\n",
       "      <td>0.0</td>\n",
       "      <td>0.0</td>\n",
       "    </tr>\n",
       "    <tr>\n",
       "      <th>2</th>\n",
       "      <td>1.0</td>\n",
       "      <td>0.0</td>\n",
       "      <td>0.0</td>\n",
       "      <td>0.0</td>\n",
       "      <td>0.0</td>\n",
       "      <td>0.0</td>\n",
       "      <td>0.0</td>\n",
       "      <td>0.0</td>\n",
       "      <td>0.0</td>\n",
       "      <td>0.0</td>\n",
       "      <td>...</td>\n",
       "      <td>0.0</td>\n",
       "      <td>0.0</td>\n",
       "      <td>0.0</td>\n",
       "      <td>0.0</td>\n",
       "      <td>0.0</td>\n",
       "      <td>0.0</td>\n",
       "      <td>0.0</td>\n",
       "      <td>0.0</td>\n",
       "      <td>0.0</td>\n",
       "      <td>0.0</td>\n",
       "    </tr>\n",
       "    <tr>\n",
       "      <th>3</th>\n",
       "      <td>4.0</td>\n",
       "      <td>0.0</td>\n",
       "      <td>0.0</td>\n",
       "      <td>0.0</td>\n",
       "      <td>0.0</td>\n",
       "      <td>0.0</td>\n",
       "      <td>0.0</td>\n",
       "      <td>0.0</td>\n",
       "      <td>0.0</td>\n",
       "      <td>0.0</td>\n",
       "      <td>...</td>\n",
       "      <td>0.0</td>\n",
       "      <td>0.0</td>\n",
       "      <td>0.0</td>\n",
       "      <td>0.0</td>\n",
       "      <td>0.0</td>\n",
       "      <td>0.0</td>\n",
       "      <td>0.0</td>\n",
       "      <td>0.0</td>\n",
       "      <td>0.0</td>\n",
       "      <td>0.0</td>\n",
       "    </tr>\n",
       "    <tr>\n",
       "      <th>4</th>\n",
       "      <td>0.0</td>\n",
       "      <td>0.0</td>\n",
       "      <td>0.0</td>\n",
       "      <td>0.0</td>\n",
       "      <td>0.0</td>\n",
       "      <td>0.0</td>\n",
       "      <td>0.0</td>\n",
       "      <td>0.0</td>\n",
       "      <td>0.0</td>\n",
       "      <td>0.0</td>\n",
       "      <td>...</td>\n",
       "      <td>0.0</td>\n",
       "      <td>0.0</td>\n",
       "      <td>0.0</td>\n",
       "      <td>0.0</td>\n",
       "      <td>0.0</td>\n",
       "      <td>0.0</td>\n",
       "      <td>0.0</td>\n",
       "      <td>0.0</td>\n",
       "      <td>0.0</td>\n",
       "      <td>0.0</td>\n",
       "    </tr>\n",
       "  </tbody>\n",
       "</table>\n",
       "<p>5 rows × 785 columns</p>\n",
       "</div>"
      ],
      "text/plain": [
       "   label  pixel0  pixel1  pixel2  pixel3  pixel4  pixel5  pixel6  pixel7  \\\n",
       "0    1.0     0.0     0.0     0.0     0.0     0.0     0.0     0.0     0.0   \n",
       "1    0.0     0.0     0.0     0.0     0.0     0.0     0.0     0.0     0.0   \n",
       "2    1.0     0.0     0.0     0.0     0.0     0.0     0.0     0.0     0.0   \n",
       "3    4.0     0.0     0.0     0.0     0.0     0.0     0.0     0.0     0.0   \n",
       "4    0.0     0.0     0.0     0.0     0.0     0.0     0.0     0.0     0.0   \n",
       "\n",
       "   pixel8  ...  pixel774  pixel775  pixel776  pixel777  pixel778  pixel779  \\\n",
       "0     0.0  ...       0.0       0.0       0.0       0.0       0.0       0.0   \n",
       "1     0.0  ...       0.0       0.0       0.0       0.0       0.0       0.0   \n",
       "2     0.0  ...       0.0       0.0       0.0       0.0       0.0       0.0   \n",
       "3     0.0  ...       0.0       0.0       0.0       0.0       0.0       0.0   \n",
       "4     0.0  ...       0.0       0.0       0.0       0.0       0.0       0.0   \n",
       "\n",
       "   pixel780  pixel781  pixel782  pixel783  \n",
       "0       0.0       0.0       0.0       0.0  \n",
       "1       0.0       0.0       0.0       0.0  \n",
       "2       0.0       0.0       0.0       0.0  \n",
       "3       0.0       0.0       0.0       0.0  \n",
       "4       0.0       0.0       0.0       0.0  \n",
       "\n",
       "[5 rows x 785 columns]"
      ]
     },
     "execution_count": 3,
     "metadata": {},
     "output_type": "execute_result"
    }
   ],
   "source": [
    "train.head()"
   ]
  },
  {
   "cell_type": "markdown",
   "id": "cea0b9a0-80d6-4583-bb55-babf52b58d10",
   "metadata": {},
   "source": [
    "__Pre-process the data for ingest into the model__\n",
    "- split data into features (pixels) and labels (numbers from 0 to 9)"
   ]
  },
  {
   "cell_type": "code",
   "execution_count": 11,
   "id": "0685580e-e88a-4089-9845-f3f0d58878f5",
   "metadata": {},
   "outputs": [],
   "source": [
    "np_targets = train.label.values\n",
    "np_features = train.loc[:,train.columns != \"label\"].values"
   ]
  },
  {
   "cell_type": "markdown",
   "id": "e900d9d2-acab-4265-ab30-c6fe41b0c5c1",
   "metadata": {},
   "source": [
    "Normalise the features (256 colour images)"
   ]
  },
  {
   "cell_type": "code",
   "execution_count": 12,
   "id": "b5260649-2bd2-44a8-b063-4dc90dfd9baf",
   "metadata": {},
   "outputs": [
    {
     "name": "stdout",
     "output_type": "stream",
     "text": [
      "[188. 255.  94. ...  74. 250.  59.]\n"
     ]
    }
   ],
   "source": [
    "print(np_features[np.where(np_features != 0)])\n",
    "np_features /= 255"
   ]
  },
  {
   "cell_type": "code",
   "execution_count": 13,
   "id": "f8c24f09-b406-4686-91c0-381742659562",
   "metadata": {},
   "outputs": [
    {
     "data": {
      "text/plain": [
       "array([0.7372549 , 1.        , 0.36862746, ..., 0.2901961 , 0.98039216,\n",
       "       0.23137255], dtype=float32)"
      ]
     },
     "execution_count": 13,
     "metadata": {},
     "output_type": "execute_result"
    }
   ],
   "source": [
    "np_features[np.where(np_features != 0)]"
   ]
  },
  {
   "cell_type": "markdown",
   "id": "bb5ec5c2-c765-4837-801c-a873ee687cea",
   "metadata": {},
   "source": [
    "Split into 80:20 train:test sets"
   ]
  },
  {
   "cell_type": "code",
   "execution_count": 14,
   "id": "65369482-dc80-424b-8087-27cfbc4527ef",
   "metadata": {},
   "outputs": [],
   "source": [
    "np_features_train, np_features_test, np_targets_train, np_targets_test = train_test_split(np_features,\n",
    "                                                                                          np_targets,\n",
    "                                                                                          test_size=0.2,\n",
    "                                                                                          random_state=42)"
   ]
  },
  {
   "cell_type": "markdown",
   "id": "bd7f8f0b-7117-45de-9bf6-d8e21e4d575a",
   "metadata": {},
   "source": [
    "Convert to torch.Tensor\n",
    "- note we can convert from float32 used by default in the numpy arrays to torch datatypes"
   ]
  },
  {
   "cell_type": "code",
   "execution_count": 15,
   "id": "3c06560c-36ec-48a6-867b-afde9fb78a6f",
   "metadata": {
    "tags": []
   },
   "outputs": [],
   "source": [
    "features_train = torch.from_numpy(np_features_train)\n",
    "targets_train = torch.from_numpy(np_targets_train).type(torch.LongTensor)\n",
    "\n",
    "features_test = torch.from_numpy(np_features_test)\n",
    "targets_test = torch.from_numpy(np_targets_test).type(torch.LongTensor)"
   ]
  },
  {
   "cell_type": "code",
   "execution_count": 16,
   "id": "e22b83ae-6f98-48b7-a4ed-3aec72552c96",
   "metadata": {},
   "outputs": [
    {
     "data": {
      "text/plain": [
       "tensor([[0., 0., 0.,  ..., 0., 0., 0.],\n",
       "        [0., 0., 0.,  ..., 0., 0., 0.],\n",
       "        [0., 0., 0.,  ..., 0., 0., 0.],\n",
       "        ...,\n",
       "        [0., 0., 0.,  ..., 0., 0., 0.],\n",
       "        [0., 0., 0.,  ..., 0., 0., 0.],\n",
       "        [0., 0., 0.,  ..., 0., 0., 0.]])"
      ]
     },
     "execution_count": 16,
     "metadata": {},
     "output_type": "execute_result"
    }
   ],
   "source": [
    "features_train"
   ]
  },
  {
   "cell_type": "code",
   "execution_count": 23,
   "id": "dd34d261-bbb5-41d9-8f37-e62878751acc",
   "metadata": {},
   "outputs": [
    {
     "data": {
      "image/png": "[encoded data removed]",
      "text/plain": [
       "<Figure size 640x480 with 60 Axes>"
      ]
     },
     "metadata": {},
     "output_type": "display_data"
    }
   ],
   "source": [
    "# visualize some images\n",
    "figure = plt.figure()\n",
    "num_of_images = 60\n",
    "for index in range(1, num_of_images + 1):\n",
    "    plt.subplot(6, 10, index)\n",
    "    plt.axis('off')\n",
    "    plt.imshow(np_features[index].reshape((28,28)), cmap='gray_r')\n",
    "plt.show()"
   ]
  },
  {
   "cell_type": "markdown",
   "id": "e1568871-49ee-48eb-bc87-33b95d7e2a4b",
   "metadata": {},
   "source": [
    "At this stage we have torch.Tensor object representing our data.\n",
    "\n",
    "Now, we need to construct \n",
    "- torch.autograd.Variable objects - these will store our tensors and gradients\n",
    "- torch.utils.data.DataLoader objects - these will provide the funcionality required to divide our images into batches\n",
    "\n",
    "This is also a useful stage to decide on hyperparameters, since one of them, `batch_size`, is required on DataLoader initialisation."
   ]
  },
  {
   "cell_type": "code",
   "execution_count": 24,
   "id": "8a36da7f-ca32-4d08-b14b-ee81a38793d1",
   "metadata": {},
   "outputs": [],
   "source": [
    "# Combine feature and target combinations into train and test sets \n",
    "train = torch.utils.data.TensorDataset(features_train,targets_train)\n",
    "test = torch.utils.data.TensorDataset(features_test,targets_test)"
   ]
  },
  {
   "cell_type": "code",
   "execution_count": 25,
   "id": "3b59f90d-af5f-40cb-b829-fbbd3906906b",
   "metadata": {},
   "outputs": [],
   "source": [
    "# some hyperparameters\n",
    "batch_size = 100\n",
    "n_iters = 10000\n",
    "num_epochs = n_iters / (len(features_train) / batch_size)\n",
    "num_epochs = int(num_epochs)\n"
   ]
  },
  {
   "cell_type": "code",
   "execution_count": 26,
   "id": "a2c354e5-7e6b-4ee1-bcc2-6ea53bc7522c",
   "metadata": {},
   "outputs": [],
   "source": [
    "# initialise DataLoader objects\n",
    "train_loader = DataLoader(train, batch_size = batch_size, shuffle = False)\n",
    "test_loader = DataLoader(test, batch_size = batch_size, shuffle = False)"
   ]
  },
  {
   "cell_type": "markdown",
   "id": "3bd32c27-a00e-4301-9231-1ff0e88e4f16",
   "metadata": {},
   "source": [
    "__Now build a Logistic Regression model__"
   ]
  },
  {
   "cell_type": "markdown",
   "id": "34007ae2-50a4-4133-8ef8-2f23776dd2d2",
   "metadata": {},
   "source": [
    "As we saw in Practical 9a, a model is defined as a Python class extending nn.Module"
   ]
  },
  {
   "cell_type": "code",
   "execution_count": 29,
   "id": "007a1abe-aaa6-4bed-a640-a1d5868e31dd",
   "metadata": {},
   "outputs": [],
   "source": [
    "# Create Logistic Regression Model\n",
    "class LogisticRegressionModel(nn.Module):\n",
    "    def __init__(self, n_features, n_outputs):\n",
    "        # initialise with Python super()\n",
    "        super(LogisticRegressionModel, self).__init__()\n",
    "        # linear regression activation\n",
    "        self.linear = nn.Linear(n_features, n_outputs)\n",
    "    \n",
    "    def forward(self, x):\n",
    "        return self.linear(x)\n",
    "\n"
   ]
  },
  {
   "cell_type": "markdown",
   "id": "3d5c26c2-89db-4952-871f-f53f77b83eca",
   "metadata": {},
   "source": [
    "And that's it!!\n",
    "\n",
    "But something is strange - the activation function is linear regression, not logistic regression...\n",
    "\n",
    "The logistic part is taken care of y the loss function, which will use `nn.CrossEntropyLoss()` as its error:"
   ]
  },
  {
   "cell_type": "code",
   "execution_count": 27,
   "id": "67f17cea-a75a-4fd3-89fd-ac1516265c71",
   "metadata": {},
   "outputs": [],
   "source": [
    "# Cross Entropy Loss  \n",
    "error = nn.CrossEntropyLoss()"
   ]
  },
  {
   "cell_type": "markdown",
   "id": "1d568328-b7e8-415e-b5c2-a040a28f9c97",
   "metadata": {},
   "source": [
    "Instantiate the model"
   ]
  },
  {
   "cell_type": "code",
   "execution_count": 30,
   "id": "356837fa-06ff-45bf-8677-b27c19f71606",
   "metadata": {},
   "outputs": [
    {
     "data": {
      "text/plain": [
       "LogisticRegressionModel(\n",
       "  (linear): Linear(in_features=784, out_features=10, bias=True)\n",
       ")"
      ]
     },
     "execution_count": 30,
     "metadata": {},
     "output_type": "execute_result"
    }
   ],
   "source": [
    "n_features = 784 # number of pixels per image\n",
    "n_outputs = 10  # number of possible labes (0-9)\n",
    "\n",
    "model = LogisticRegressionModel(n_features, n_outputs)\n",
    "model"
   ]
  },
  {
   "cell_type": "code",
   "execution_count": null,
   "id": "b60657ee-8598-4708-891e-6577298bb852",
   "metadata": {},
   "outputs": [],
   "source": [
    "# SGD Optimizer \n",
    "learning_rate = 0.001\n",
    "optimizer = torch.optim.SGD(model.parameters(), lr=learning_rate)"
   ]
  },
  {
   "cell_type": "code",
   "execution_count": null,
   "id": "1ab7dd1c-3669-4456-9309-67dbd4d9f6e4",
   "metadata": {},
   "outputs": [],
   "source": []
  },
  {
   "cell_type": "code",
   "execution_count": null,
   "id": "a5f4ed47-65c2-4613-9a88-5c40318caf81",
   "metadata": {},
   "outputs": [],
   "source": []
  },
  {
   "cell_type": "code",
   "execution_count": null,
   "id": "2f3eb5d9-9345-47c4-9d56-335e97bd51aa",
   "metadata": {},
   "outputs": [],
   "source": []
  },
  {
   "cell_type": "code",
   "execution_count": null,
   "id": "eaa9a838-207f-464a-9268-b9f524f95423",
   "metadata": {},
   "outputs": [],
   "source": []
  },
  {
   "cell_type": "code",
   "execution_count": null,
   "id": "b2875677-a921-41c5-9a79-8de3a2be0cb0",
   "metadata": {},
   "outputs": [],
   "source": []
  },
  {
   "cell_type": "code",
   "execution_count": null,
   "id": "99f246d4-ce70-44b4-b45c-ef0dea7d1826",
   "metadata": {},
   "outputs": [],
   "source": []
  },
  {
   "cell_type": "markdown",
   "id": "ff8726a1-60be-4636-ad75-dadd5582bb5a",
   "metadata": {},
   "source": [
    "# Before jumping into making a neural network, let's look at PyTorch Tensors"
   ]
  },
  {
   "cell_type": "markdown",
   "id": "ab27d325-2b2f-40ab-87c5-54a58a95338d",
   "metadata": {},
   "source": [
    "- __Tensors__\n",
    "    - Tensors are similar to NumPy’s ndarrays, with the addition being that Tensors can also be used on a GPU to accelerate computing. \n",
    "    - To aid usability for those used to using NumPY, PyTorch adopt a similar API."
   ]
  },
  {
   "cell_type": "markdown",
   "id": "8a03e9bb-9d6d-4533-af70-c75709e679df",
   "metadata": {},
   "source": [
    "Let's look at creating NumPy arrays and PyTorch Tensors and compare."
   ]
  },
  {
   "cell_type": "code",
   "execution_count": null,
   "id": "e49ce12b-81b1-41f8-bfd5-95f0ecc8eaeb",
   "metadata": {},
   "outputs": [],
   "source": [
    "# numpy array construction from a Python list\n",
    "my_list = [[1,2,3],[4,5,6]]\n",
    "first_array = np.array(my_list) # 2x3 array\n",
    "print(\"Array Type: {}\".format(type(first_array))) # type\n",
    "print(\"Array Shape: {}\".format(np.shape(first_array))) # shape\n",
    "print(first_array)"
   ]
  },
  {
   "cell_type": "code",
   "execution_count": null,
   "id": "5b129c0f-9875-4aa3-b0dc-9f15e3fdcb2c",
   "metadata": {},
   "outputs": [],
   "source": [
    "# pytorch Tensor construction from a Python list\n",
    "tensor = torch.Tensor(my_list)\n",
    "print(\"Array Type: {}\".format(tensor.type)) # type\n",
    "print(\"Array Shape: {}\".format(tensor.shape)) # shape\n",
    "print(tensor)"
   ]
  },
  {
   "cell_type": "code",
   "execution_count": null,
   "id": "bd0b87a1-31e8-41e3-9dcb-bc123b27a5b8",
   "metadata": {},
   "outputs": [],
   "source": [
    "# empty arrays and Tensors are equivalent\n",
    "print('numpy ones')\n",
    "print(np.empty((2,3)))\n",
    "\n",
    "print('pytorch ones')\n",
    "print(torch.empty((2,3)))"
   ]
  },
  {
   "cell_type": "code",
   "execution_count": null,
   "id": "5095660b-7831-4cee-b549-6f576d753491",
   "metadata": {},
   "outputs": [],
   "source": [
    "# arrays and Tensors of ones are equivalent\n",
    "print('numpy ones')\n",
    "print(np.ones((2,3)))\n",
    "\n",
    "print('pytorch ones')\n",
    "print(torch.ones((2,3)))"
   ]
  },
  {
   "cell_type": "code",
   "execution_count": null,
   "id": "994391e9-bb57-4a4f-b90d-a5e683f3b35e",
   "metadata": {},
   "outputs": [],
   "source": [
    "# arrays and Tensors of random numbers are equivalent\n",
    "print('numpy random')\n",
    "print(np.random.rand(2,3)) # not fewer parentheses here - `np.random.rand()` takes two integers as inputs, whereas `np.ones()` takes a shape tuple\n",
    "\n",
    "print('pytorch ones')\n",
    "print(torch.rand((2,3)))"
   ]
  },
  {
   "cell_type": "markdown",
   "id": "bfa66165-7a13-4f2d-9704-3072d6b0620f",
   "metadata": {},
   "source": [
    "We can also convert between NumPy arrays and PyTorch Tensors"
   ]
  },
  {
   "cell_type": "code",
   "execution_count": null,
   "id": "31336705-fb6d-4343-b520-77667e6a5bef",
   "metadata": {},
   "outputs": [],
   "source": [
    "# from numpy to tensor\n",
    "array = np.array([[1,2,3],[4,5,6]])\n",
    "print(type(array))\n",
    "print(array)\n",
    "tensor = torch.from_numpy(array)\n",
    "print(type(tensor))\n",
    "print(tensor)\n",
    "\n",
    "# from tensor to numpy\n",
    "array2 = tensor.numpy()\n",
    "print(type(array2))\n",
    "print(array2)"
   ]
  },
  {
   "cell_type": "code",
   "execution_count": null,
   "id": "6fbbceb5-0281-4d6c-bd5a-0292bf61f90e",
   "metadata": {},
   "outputs": [],
   "source": [
    "# Finally, we often need to see the shape of an array or tensor\n",
    "print(array.shape)\n",
    "print(tensor.shape)"
   ]
  },
  {
   "cell_type": "markdown",
   "id": "ced45c6b-b21f-48cc-aa46-f51b679d95ef",
   "metadata": {},
   "source": [
    "# Building a neural network - `tensor`, `autograd`, `torch.nn`, `forward()` and `backward()`"
   ]
  },
  {
   "cell_type": "markdown",
   "id": "03dd191e-0721-4b1a-b3b1-5502693a2c8e",
   "metadata": {},
   "source": [
    "## Neural Networks\n",
    "\n",
    "\n",
    "Neural networks can be constructed using the `torch.nn` package.\n",
    "\n",
    "- `nn` depends on `autograd` to define models and differentiate them ())producing gradients).\n",
    "- An `nn.Module` contains layers, and a method `forward(input)` that\n",
    "returns the `output`.\n",
    "\n",
    "\n",
    "A typical training procedure for a neural network is as follows:\n",
    "\n",
    "- Define the neural network that has some learnable parameters (or\n",
    "  weights)\n",
    "- Iterate over a dataset of inputs\n",
    "- Process input through the network\n",
    "- Compute the loss (how far is the output from being correct)\n",
    "- Propagate gradients back into the network’s parameters\n",
    "- Update the weights of the network, typically using a simple update rule:\n",
    "  ``weight = weight - learning_rate * gradient``\n",
    "\n",
    "### Define the network\n",
    "\n",
    "\n",
    "Let’s define this network:"
   ]
  },
  {
   "cell_type": "code",
   "execution_count": null,
   "id": "424b0eb2-562b-49d5-9424-2869fd5f6d24",
   "metadata": {},
   "outputs": [],
   "source": [
    "class ANN(nn.Module): ## construct a class extending nn.Module\n",
    "    \n",
    "    def __init__(self, n_hidden):\n",
    "        super(ANN, self).__init__()\n",
    "        self.i_h = nn.Sequential(nn.Linear(2, n_hidden), nn.Sigmoid()) # input layer taking 2 features (x and y coordinates of a point) and producing n_hidden features\n",
    "        self.h_o = nn.Sequential(nn.Linear(n_hidden, 1), nn.Sigmoid()) # output layer taking n_hidden features and producing 1 feature (the classification)\n",
    "        \n",
    "    def forward(self, x): # produce output given input by using input and output layers\n",
    "        h = self.i_h(x)\n",
    "        output = self.h_o(h)\n",
    "        return output\n",
    "    \n",
    "n_hidden = 30\n",
    "net = ANN(n_hidden = n_hidden) # initialse an ANN object with n_hidden = 30 \n",
    "print(net)"
   ]
  },
  {
   "cell_type": "markdown",
   "id": "d63bfe2a-95a3-4fb2-89fc-d9a10961c4ca",
   "metadata": {},
   "source": [
    "We have defined the `forward()` function. `autograd` will define the `backward()` function for us in the following steps.\n",
    "\n",
    "To see the tensors for features, weights and biases of our layers, use `state_dict()`:"
   ]
  },
  {
   "cell_type": "code",
   "execution_count": null,
   "id": "f8c8b583-454b-4cca-8077-c1166dfd6ecb",
   "metadata": {},
   "outputs": [],
   "source": [
    "print(net.state_dict())"
   ]
  },
  {
   "cell_type": "markdown",
   "id": "d3238950-648f-4767-8f94-34c4f7267051",
   "metadata": {},
   "source": [
    "With our nerual network setup, we now need a loss function.\n",
    "\n",
    "`torch.nn` provides a number of predefined loss functions [https://pytorch.org/docs/stable/nn.html#loss-functions](), of which we will choose the Binary Cross-entropy."
   ]
  },
  {
   "cell_type": "code",
   "execution_count": null,
   "id": "c55bfa41-93e9-4cb4-8b86-52c96f404e46",
   "metadata": {},
   "outputs": [],
   "source": [
    "# data to tensor\n",
    "X_tensor = torch.tensor(X, dtype = torch.float)\n",
    "target = torch.tensor(y, dtype=torch.float32).view(-1,1) # `torch.tensor.view()` is equivalent to np.reshape() - here we swap rows and columns to get y into the shape we need\n",
    "\n",
    "y_output = net(X_tensor) # calculating y_output produces the predicted y values\n",
    "loss_fn = nn.BCELoss(reduction=\"sum\")\n",
    "loss = loss_fn(y_output, target) # the loss is the difference between predicted and target values according to the loss function\n",
    "print(loss)"
   ]
  },
  {
   "cell_type": "markdown",
   "id": "06841f0c-44ac-4d40-88d1-a400b11ded9e",
   "metadata": {},
   "source": [
    "## Backpropagation"
   ]
  },
  {
   "cell_type": "markdown",
   "id": "2d0e78ef-42f3-4504-9364-92311feaba60",
   "metadata": {},
   "source": [
    "To backpropagate:\n",
    "- clear previous gradients in the neural network\n",
    "- use `loss.backward()` to backpropagate the errors.\n",
    "\n",
    "That's it!"
   ]
  },
  {
   "cell_type": "code",
   "execution_count": null,
   "id": "c43d7734-857d-48f1-8980-99c65747313c",
   "metadata": {},
   "outputs": [],
   "source": [
    "#note, running this cell more than once will raise a runtime error as loss.backward() should only be run once.\n",
    "net.zero_grad()\n",
    "print([p.grad for p in net.parameters()])\n",
    "loss.backward()\n",
    "print([p.grad for p in net.parameters()])"
   ]
  },
  {
   "cell_type": "markdown",
   "id": "8b89a115-c6ab-4b10-8cce-4082e43f5c42",
   "metadata": {},
   "source": [
    "## Update weights - optimisation"
   ]
  },
  {
   "cell_type": "markdown",
   "id": "a7690e7a-d536-4c95-b02d-628329521ae4",
   "metadata": {},
   "source": [
    "- in the previous practical we defined a Stochastic Gradient Descent optimiser in NumPy\n",
    "- with PyTorch, we will simply chose the optimiser from `torch.optim`\n",
    "- in `torch.optim.SGD()` we provide the parameters of the model, the learning rate (lr) and the momentum\n",
    "- for more reading on initialisation of lr and momentum, see [http://www.cs.toronto.edu/%7Ehinton/absps/momentum.pdf]()."
   ]
  },
  {
   "cell_type": "code",
   "execution_count": null,
   "id": "9c3f17c8-8891-4a13-8a01-d3cabc734928",
   "metadata": {},
   "outputs": [],
   "source": [
    "optimiser = torch.optim.SGD(net.parameters(), lr=0.001, momentum=0.0)"
   ]
  },
  {
   "cell_type": "markdown",
   "id": "2cfb4596-78c4-431a-8abb-f685e2da2ced",
   "metadata": {},
   "source": [
    "- _Try printing the parameters of the model before an after making an optimisation step (`optimiser.step()`) to see the difference._"
   ]
  },
  {
   "cell_type": "markdown",
   "id": "24525138-0e92-4414-b394-8f282c0ccd54",
   "metadata": {},
   "source": [
    "# Run the model optimisation"
   ]
  },
  {
   "cell_type": "code",
   "execution_count": null,
   "id": "a573f5dc-db9e-4a01-aa32-45367b682175",
   "metadata": {},
   "outputs": [],
   "source": [
    "%%time\n",
    "n_hidden = 30\n",
    "net = ANN(n_hidden = n_hidden)\n",
    "\n",
    "# optimizer\n",
    "lr = 0.001\n",
    "optimizer = torch.optim.SGD(net.parameters(), lr=lr, momentum=0.)\n",
    "\n",
    "# loss function\n",
    "loss_fn = torch.nn.BCELoss(reduction=\"sum\")\n",
    "\n",
    "# data to tensor\n",
    "X_tensor = torch.tensor(X, dtype = torch.float)\n",
    "y_tensor = torch.tensor(y, dtype=torch.float32).view(-1,1)\n",
    "\n",
    "# training\n",
    "n_epochs = 10000\n",
    "for epoch in range(n_epochs):\n",
    "    optimizer.zero_grad()\n",
    "    y_pred = net(X_tensor)\n",
    "    loss = loss_fn(y_pred, y_tensor)\n",
    "    loss.backward()\n",
    "    optimizer.step()\n",
    "    \n",
    "    if epoch%100 == 0:\n",
    "        print(\"Iteration {}/{}, loss {:.4f}\".format(epoch, n_epochs, loss.item()))"
   ]
  },
  {
   "cell_type": "markdown",
   "id": "d466a93c-f518-4bfa-b968-eb7a32d4cd48",
   "metadata": {},
   "source": [
    "__Plot the resulting decision boundaries of the model__\n",
    "\n",
    "__Can you understand each line of the cell below? - What is different now we are using PyTorch?__"
   ]
  },
  {
   "cell_type": "code",
   "execution_count": null,
   "id": "f87b654b-4748-43e7-b366-96cacf10e61b",
   "metadata": {},
   "outputs": [],
   "source": [
    "# plotting \n",
    "x_min, x_max = X[:, 0].min() - .5, X[:, 0].max() + .5\n",
    "y_min, y_max = X[:, 1].min() - .5, X[:, 1].max() + .5\n",
    "h = 0.02 # step in the mesh\n",
    "xx, yy = np.meshgrid(np.arange(x_min, x_max, h),\n",
    "                     np.arange(y_min, y_max, h))\n",
    "xx_tensor, yy_tensor = torch.tensor(xx, dtype=torch.float), torch.tensor(yy, dtype=torch.float)\n",
    "Z = net(torch.stack([xx_tensor.flatten(), yy_tensor.flatten()], 1))\n",
    "Z = Z.detach().numpy()\n",
    "Z = Z.reshape(xx.shape)\n",
    "fig, ax = plt.subplots()\n",
    "ax.scatter(X[:,0], X[:,1], c = y.ravel(), edgecolors='k', cmap = cm_bright)\n",
    "Z_binary = Z>=0.5\n",
    "Z_binary = Z_binary.reshape(xx.shape)\n",
    "ax.contourf(xx, yy, Z_binary, cmap=cm_bright, alpha=.5)"
   ]
  },
  {
   "cell_type": "markdown",
   "id": "ad7ca68f-f663-4b06-a032-6755a561eb18",
   "metadata": {},
   "source": [
    "## This was equivalent to the NumPy training in the previous practical in terms of the number of epochs, features, optimiser and loss function\n",
    "\n",
    "## Did it perform more quickly?\n",
    "Remember, PyTorch tensors are equivalent to NumPy arrays, but they can be used efficiently on GPUs - _should_ this optimisation run more quickly than the NumPy-based one?"
   ]
  },
  {
   "cell_type": "markdown",
   "id": "8f29fd47-c5e0-4336-b30a-878428169f45",
   "metadata": {},
   "source": [
    "## Now switch to a GPU node (instructions on Learn) - run the whole notebook again and see the time difference before moving on to Practical9b.ipynb"
   ]
  },
  {
   "cell_type": "code",
   "execution_count": null,
   "id": "7d030f89-2f26-4751-9036-8d7d6327f886",
   "metadata": {},
   "outputs": [],
   "source": []
  }
 ],
 "metadata": {
  "kernelspec": {
   "display_name": "Python 3 (ipykernel)",
   "language": "python",
   "name": "python3"
  },
  "language_info": {
   "codemirror_mode": {
    "name": "ipython",
    "version": 3
   },
   "file_extension": ".py",
   "mimetype": "text/x-python",
   "name": "python",
   "nbconvert_exporter": "python",
   "pygments_lexer": "ipython3",
   "version": "3.9.12"
  }
 },
 "nbformat": 4,
 "nbformat_minor": 5
}
