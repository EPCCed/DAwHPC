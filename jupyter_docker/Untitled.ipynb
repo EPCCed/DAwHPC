{
 "cells": [
  {
   "cell_type": "markdown",
   "id": "20e2b644-d2b8-4f85-bcfa-2c29e9b8f24e",
   "metadata": {},
   "source": [
    "__Scenario__:<br>\n",
    "A folder contains 100 .npy files (save NumPy arrays) of ~250 MB each and you're running out of disk quota. Compressed .npz NumPy arrays can be ~1000 times smaller.\n",
    "This function reads in a NumPy array from a given `filename` and writes a compressed version with `numpy.savez_compressed(path, arg)`.\n",
    "Using the `multiprocessing.Pool` `Pool.map(func, [])` function, this can be parallelised; here, using 4 sub-processes."
   ]
  },
  {
   "cell_type": "code",
   "execution_count": null,
   "id": "785ba3b2-839f-42df-9cad-f08d223ed914",
   "metadata": {},
   "outputs": [],
   "source": [
    "import numpy as np\n",
    "import multiprocessing as mp\n",
    "\n",
    "def comp_npy(filename):\n",
    "    if filename[-3:] == 'npy':\n",
    "        a = np.fromfile(filename)\n",
    "        zfilename = ''.join([filename[:-1],'z'])\n",
    "        np.savez_compressed(zfilename,a)\n",
    "        return f'{zfilename} done.'\n",
    "    else:\n",
    "        return f'{filename} skipped.'\n",
    "    \n",
    "if __name__ == '__main__':\n",
    "    pool = mp.Pool(processes=4)\n",
    "    print(pool.map(comp_npy, os.listdir()))"
   ]
  }
 ],
 "metadata": {
  "kernelspec": {
   "display_name": "Python 3 (ipykernel)",
   "language": "python",
   "name": "python3"
  },
  "language_info": {
   "codemirror_mode": {
    "name": "ipython",
    "version": 3
   },
   "file_extension": ".py",
   "mimetype": "text/x-python",
   "name": "python",
   "nbconvert_exporter": "python",
   "pygments_lexer": "ipython3",
   "version": "3.9.12"
  }
 },
 "nbformat": 4,
 "nbformat_minor": 5
}
