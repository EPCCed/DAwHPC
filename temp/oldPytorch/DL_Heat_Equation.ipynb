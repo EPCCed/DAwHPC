{
 "cells": [
  {
   "cell_type": "markdown",
   "metadata": {},
   "source": [
    "# PDE solver using Deep Learning\n",
    "\n",
    "Heat equation: \n",
    "$$\\partial_t u(t,x) + k \\cdot tr(\\partial_{xx} u(t,x)) = 0, \\quad (t,x)\\in [0,T]\\times \\Omega$$\n",
    "$$u(T,x) = g(x)$$\n",
    "\n"
   ]
  },
  {
   "cell_type": "code",
   "execution_count": 10,
   "metadata": {
    "collapsed": true
   },
   "outputs": [],
   "source": [
    "%matplotlib inline  \n",
    "import torch\n",
    "import torch.nn as nn\n",
    "import math\n",
    "import numpy as np\n",
    "from scipy import integrate\n",
    "import matplotlib.pyplot as plt\n"
   ]
  },
  {
   "cell_type": "markdown",
   "metadata": {},
   "source": [
    "We define the DGM layer as in https://arxiv.org/pdf/1708.07469.pdf"
   ]
  },
  {
   "cell_type": "code",
   "execution_count": 11,
   "metadata": {
    "collapsed": true
   },
   "outputs": [],
   "source": [
    "class DGM_Layer(nn.Module):\n",
    "    \n",
    "    def __init__(self, dim_x, dim_S, activation='Tanh'):\n",
    "        super(DGM_Layer, self).__init__()\n",
    "        \n",
    "        if activation == 'ReLU':\n",
    "            self.activation = nn.ReLU()\n",
    "        elif activation == 'Tanh':\n",
    "            self.activation = nn.Tanh()\n",
    "        elif activation == 'Sigmoid':\n",
    "            self.activation = nn.Sigmoid()\n",
    "        elif activation == 'LogSigmoid':\n",
    "            self.activation = nn.LogSigmoid()\n",
    "        else:\n",
    "            raise ValueError(\"Unknown activation function {}\".format(activation))\n",
    "            \n",
    "\n",
    "        self.gate_Z = self.layer(dim_x+dim_S, dim_S)\n",
    "        self.gate_G = self.layer(dim_x+dim_S, dim_S)\n",
    "        self.gate_R = self.layer(dim_x+dim_S, dim_S)\n",
    "        self.gate_H = self.layer(dim_x+dim_S, dim_S)\n",
    "            \n",
    "    def layer(self, nIn, nOut):\n",
    "        l = nn.Sequential(nn.Linear(nIn, nOut), self.activation)\n",
    "        return l\n",
    "    \n",
    "    def forward(self, x, S):\n",
    "        x_S = torch.cat([x,S],1)\n",
    "        Z = self.gate_Z(x_S)\n",
    "        G = self.gate_G(x_S)\n",
    "        R = self.gate_R(x_S)\n",
    "        \n",
    "        input_gate_H = torch.cat([x, S*R],1)\n",
    "        H = self.gate_H(input_gate_H)\n",
    "        \n",
    "        output = ((1-G))*H + Z*S\n",
    "        return output"
   ]
  },
  {
   "cell_type": "markdown",
   "metadata": {},
   "source": [
    "We define the whole network by combining threee DGM layers"
   ]
  },
  {
   "cell_type": "code",
   "execution_count": 12,
   "metadata": {
    "collapsed": true
   },
   "outputs": [],
   "source": [
    "class Net_DGM(nn.Module):\n",
    "    \n",
    "    def __init__(self, dim_x, dim_S, activation='Sigmoid'):\n",
    "        super(Net_DGM, self).__init__()\n",
    "        \n",
    "        self.dim = dim_x\n",
    "        if activation == 'ReLU':\n",
    "            self.activation = nn.ReLU()\n",
    "        elif activation == 'Tanh':\n",
    "            self.activation = nn.Tanh()\n",
    "        elif activation == 'Sigmoid':\n",
    "            self.activation = nn.Sigmoid()\n",
    "        elif activation == 'LogSigmoid':\n",
    "            self.activation = nn.LogSigmoid()\n",
    "        else:\n",
    "            raise ValueError(\"Unknown activation function {}\".format(activation))\n",
    "\n",
    "        self.input_layer = nn.Sequential(nn.Linear(dim_x+1, dim_S), self.activation)\n",
    "        \n",
    "        self.DGM1 = DGM_Layer(dim_x=dim_x+1, dim_S=dim_S, activation=activation)\n",
    "        self.DGM2 = DGM_Layer(dim_x=dim_x+1, dim_S=dim_S, activation=activation)\n",
    "        self.DGM3 = DGM_Layer(dim_x=dim_x+1, dim_S=dim_S, activation=activation)\n",
    "        \n",
    "        self.output_layer = nn.Linear(dim_S, dim_x)\n",
    "    \n",
    "    def forward(self,t,x):\n",
    "        tx = torch.cat([t,x], 1)\n",
    "        S1 = self.input_layer(tx)\n",
    "        S2 = self.DGM1(tx,S1)\n",
    "        S3 = self.DGM2(tx,S2)\n",
    "        S4 = self.DGM3(tx,S3)\n",
    "        output = self.output_layer(S4)\n",
    "        return output"
   ]
  },
  {
   "cell_type": "markdown",
   "metadata": {},
   "source": [
    "Automatic Differentiation in order to obtain gradient and trace of Hessian of a network in terms of its inputs"
   ]
  },
  {
   "cell_type": "code",
   "execution_count": 13,
   "metadata": {
    "collapsed": true
   },
   "outputs": [],
   "source": [
    "def get_gradient(output, x):\n",
    "    grad = torch.autograd.grad(output, x, grad_outputs=torch.ones_like(output), create_graph=True, retain_graph=True, only_inputs=True)[0]\n",
    "    return grad\n",
    "\n",
    "def get_laplacian(grad, x):\n",
    "    hess_diag = []\n",
    "    for d in range(x.shape[1]):\n",
    "        v = grad[:,d].view(-1,1)\n",
    "        grad2 = torch.autograd.grad(v,x,grad_outputs=torch.ones_like(v), only_inputs=True, create_graph=True, retain_graph=True)[0]\n",
    "        hess_diag.append(grad2[:,d].view(-1,1))    \n",
    "    hess_diag = torch.cat(hess_diag,1)\n",
    "    laplacian = hess_diag.sum(1, keepdim=True)\n",
    "    return laplacian\n"
   ]
  },
  {
   "cell_type": "markdown",
   "metadata": {},
   "source": [
    "Terminal condition"
   ]
  },
  {
   "cell_type": "code",
   "execution_count": 14,
   "metadata": {
    "collapsed": true
   },
   "outputs": [],
   "source": [
    "def g(x):\n",
    "    output = 10*torch.exp(-torch.norm(x,2,1)**2/(2*0.1**2))\n",
    "    return output\n"
   ]
  },
  {
   "cell_type": "markdown",
   "metadata": {},
   "source": [
    "We define the network, the type of optimizer (Adam), and the loss function (MSE to approximate integral by Monte Carlo Integration)."
   ]
  },
  {
   "cell_type": "code",
   "execution_count": 15,
   "metadata": {
    "collapsed": true
   },
   "outputs": [],
   "source": [
    "model = Net_DGM(dim_x=1, dim_S=5, activation=\"Tanh\")\n",
    "k = 0.5\n",
    "\n",
    "optimizer = torch.optim.Adam(model.parameters(), lr=0.001)\n",
    "loss_fn = torch.nn.MSELoss()\n",
    "\n",
    "n_iter = 100 # to be changed\n",
    "batch_size = 5000\n",
    "dim = 1 "
   ]
  },
  {
   "cell_type": "markdown",
   "metadata": {},
   "source": [
    "We train the network"
   ]
  },
  {
   "cell_type": "code",
   "execution_count": 16,
   "metadata": {},
   "outputs": [
    {
     "name": "stdout",
     "output_type": "stream",
     "text": [
      "Iteration: 0/100\t MSE functional: 0.0288\t MSE terminal: 4.3003\t Total Loss: 4.3291\n",
      "\n",
      "Iteration: 10/100\t MSE functional: 0.0152\t MSE terminal: 3.8359\t Total Loss: 3.8511\n",
      "\n",
      "Iteration: 20/100\t MSE functional: 0.0086\t MSE terminal: 3.7641\t Total Loss: 3.7727\n",
      "\n",
      "Iteration: 30/100\t MSE functional: 0.0067\t MSE terminal: 3.3790\t Total Loss: 3.3857\n",
      "\n",
      "Iteration: 40/100\t MSE functional: 0.0068\t MSE terminal: 3.1887\t Total Loss: 3.1955\n",
      "\n",
      "Iteration: 50/100\t MSE functional: 0.0082\t MSE terminal: 3.2926\t Total Loss: 3.3008\n",
      "\n",
      "Iteration: 60/100\t MSE functional: 0.0094\t MSE terminal: 3.2722\t Total Loss: 3.2815\n",
      "\n",
      "Iteration: 70/100\t MSE functional: 0.0106\t MSE terminal: 3.6515\t Total Loss: 3.6621\n",
      "\n",
      "Iteration: 80/100\t MSE functional: 0.0133\t MSE terminal: 3.1080\t Total Loss: 3.1212\n",
      "\n",
      "Iteration: 90/100\t MSE functional: 0.0171\t MSE terminal: 2.9398\t Total Loss: 2.9569\n",
      "\n"
     ]
    }
   ],
   "source": [
    "for it in range(n_iter):\n",
    "    optimizer.zero_grad()\n",
    "    \n",
    "    input_domain = torch.randn(batch_size, dim, requires_grad=True)*math.sqrt(5) # x is uniformly sampled in [0,1]^d. Change this if domain changes\n",
    "    t = torch.rand(batch_size, 1, requires_grad=True)\n",
    "    #input_domain.requires_grad = True\n",
    "    #t.requires_grad = True\n",
    "    #init_time_forward = time.time()\n",
    "    u_of_tx = model(t, input_domain)\n",
    "    grad_u_x = get_gradient(u_of_tx,input_domain)\n",
    "    grad_u_t = get_gradient(u_of_tx, t)\n",
    "    laplacian = get_laplacian(grad_u_x, input_domain)\n",
    "    target_functional = torch.zeros_like(u_of_tx)\n",
    "    MSE_functional = loss_fn(grad_u_t + k * laplacian, target_functional)\n",
    "    \n",
    "    input_terminal = torch.randn(batch_size, dim)*math.sqrt(5)\n",
    "    t = torch.ones(batch_size, 1)\n",
    "    u_of_tx = model(t, input_terminal)\n",
    "    target_terminal = g(input_terminal)\n",
    "    MSE_terminal = loss_fn(u_of_tx, target_terminal.view(-1,1))\n",
    "    \n",
    "    loss = MSE_functional + MSE_terminal\n",
    "    loss.backward()\n",
    "    optimizer.step()\n",
    "    \n",
    "    if it%10 == 0:\n",
    "        print(\"Iteration: {}/{}\\t MSE functional: {:.4f}\\t MSE terminal: {:.4f}\\t Total Loss: {:.4f}\\n\".format(it, n_iter, MSE_functional.item(), MSE_terminal.item(), loss.item()))\n",
    "        "
   ]
  },
  {
   "cell_type": "markdown",
   "metadata": {},
   "source": [
    "I load a model that I had pre-trained. Execute the below cell only if you want to load a model"
   ]
  },
  {
   "cell_type": "code",
   "execution_count": 17,
   "metadata": {
    "collapsed": true
   },
   "outputs": [],
   "source": [
    "path = \"/Users/msabate/Projects/Seminars/src\" # change this\n",
    "state = torch.load(path+\"/DGM_Heat_equation.pth.tar\")\n",
    "model.load_state_dict(state[\"state\"])"
   ]
  },
  {
   "cell_type": "markdown",
   "metadata": {},
   "source": [
    "Analytical solution to compare with the network"
   ]
  },
  {
   "cell_type": "code",
   "execution_count": 18,
   "metadata": {
    "collapsed": true
   },
   "outputs": [],
   "source": [
    "T = 1.0; # the terminal time in the PDE\n",
    "def Phi(t: float, x : np.array):\n",
    "    d = x.shape[0]\n",
    "    normalizing_const = 1.0/((2*np.pi*(T-t))**(0.5*d))\n",
    "    return normalizing_const*np.exp(-np.dot(x,x)/(2*(T-t)))\n",
    "\n",
    "# x represents a point in R^d\n",
    "def terminal_g(x : np.array):\n",
    "    norm_x_squared = np.dot(x,x)\n",
    "    g = 10.0*np.exp(-norm_x_squared/(2*0.1**2))\n",
    "    return g\n",
    "\n",
    "def integrand1d(y0: float, t: float, x: np.array):\n",
    "    y = np.array([y0])\n",
    "    return Phi(t,x-y)*terminal_g(y)\n",
    "\n",
    "def heat_eq_1d(t: float, x : float):\n",
    "    return integrate.quad(integrand1d, -5, 5,args=(t,x))[0]\n",
    "\n",
    "heat_eq_1d_vec = np.vectorize(heat_eq_1d, excluded=['t'])"
   ]
  },
  {
   "cell_type": "markdown",
   "metadata": {},
   "source": [
    "Plots"
   ]
  },
  {
   "cell_type": "code",
   "execution_count": 19,
   "metadata": {},
   "outputs": [
    {
     "name": "stdout",
     "output_type": "stream",
     "text": [
      "0\n"
     ]
    },
    {
     "name": "stderr",
     "output_type": "stream",
     "text": [
      "No handles with labels found to put in legend.\n"
     ]
    },
    {
     "name": "stdout",
     "output_type": "stream",
     "text": [
      "1\n"
     ]
    },
    {
     "name": "stderr",
     "output_type": "stream",
     "text": [
      "No handles with labels found to put in legend.\n"
     ]
    },
    {
     "name": "stdout",
     "output_type": "stream",
     "text": [
      "2\n"
     ]
    },
    {
     "name": "stderr",
     "output_type": "stream",
     "text": [
      "No handles with labels found to put in legend.\n"
     ]
    },
    {
     "name": "stdout",
     "output_type": "stream",
     "text": [
      "3\n"
     ]
    },
    {
     "name": "stderr",
     "output_type": "stream",
     "text": [
      "No handles with labels found to put in legend.\n"
     ]
    },
    {
     "name": "stdout",
     "output_type": "stream",
     "text": [
      "4\n"
     ]
    },
    {
     "name": "stderr",
     "output_type": "stream",
     "text": [
      "No handles with labels found to put in legend.\n"
     ]
    },
    {
     "name": "stdout",
     "output_type": "stream",
     "text": [
      "5\n"
     ]
    },
    {
     "name": "stderr",
     "output_type": "stream",
     "text": [
      "No handles with labels found to put in legend.\n"
     ]
    },
    {
     "name": "stdout",
     "output_type": "stream",
     "text": [
      "6\n"
     ]
    },
    {
     "name": "stderr",
     "output_type": "stream",
     "text": [
      "No handles with labels found to put in legend.\n"
     ]
    },
    {
     "name": "stdout",
     "output_type": "stream",
     "text": [
      "7\n"
     ]
    },
    {
     "name": "stderr",
     "output_type": "stream",
     "text": [
      "No handles with labels found to put in legend.\n"
     ]
    },
    {
     "name": "stdout",
     "output_type": "stream",
     "text": [
      "8\n"
     ]
    },
    {
     "name": "stderr",
     "output_type": "stream",
     "text": [
      "No handles with labels found to put in legend.\n"
     ]
    },
    {
     "name": "stdout",
     "output_type": "stream",
     "text": [
      "9\n"
     ]
    },
    {
     "name": "stderr",
     "output_type": "stream",
     "text": [
      "No handles with labels found to put in legend.\n"
     ]
    },
    {
     "name": "stdout",
     "output_type": "stream",
     "text": [
      "10\n"
     ]
    },
    {
     "name": "stderr",
     "output_type": "stream",
     "text": [
      "No handles with labels found to put in legend.\n"
     ]
    },
    {
     "name": "stdout",
     "output_type": "stream",
     "text": [
      "11\n"
     ]
    },
    {
     "name": "stderr",
     "output_type": "stream",
     "text": [
      "No handles with labels found to put in legend.\n"
     ]
    },
    {
     "name": "stdout",
     "output_type": "stream",
     "text": [
      "12\n"
     ]
    },
    {
     "name": "stderr",
     "output_type": "stream",
     "text": [
      "No handles with labels found to put in legend.\n"
     ]
    },
    {
     "name": "stdout",
     "output_type": "stream",
     "text": [
      "13\n"
     ]
    },
    {
     "name": "stderr",
     "output_type": "stream",
     "text": [
      "No handles with labels found to put in legend.\n"
     ]
    },
    {
     "name": "stdout",
     "output_type": "stream",
     "text": [
      "14\n"
     ]
    },
    {
     "name": "stderr",
     "output_type": "stream",
     "text": [
      "No handles with labels found to put in legend.\n"
     ]
    },
    {
     "name": "stdout",
     "output_type": "stream",
     "text": [
      "15\n"
     ]
    },
    {
     "name": "stderr",
     "output_type": "stream",
     "text": [
      "No handles with labels found to put in legend.\n"
     ]
    },
    {
     "name": "stdout",
     "output_type": "stream",
     "text": [
      "16\n"
     ]
    },
    {
     "name": "stderr",
     "output_type": "stream",
     "text": [
      "No handles with labels found to put in legend.\n"
     ]
    },
    {
     "name": "stdout",
     "output_type": "stream",
     "text": [
      "17\n"
     ]
    },
    {
     "name": "stderr",
     "output_type": "stream",
     "text": [
      "No handles with labels found to put in legend.\n"
     ]
    },
    {
     "name": "stdout",
     "output_type": "stream",
     "text": [
      "18\n"
     ]
    },
    {
     "name": "stderr",
     "output_type": "stream",
     "text": [
      "No handles with labels found to put in legend.\n"
     ]
    },
    {
     "name": "stdout",
     "output_type": "stream",
     "text": [
      "19\n"
     ]
    },
    {
     "name": "stderr",
     "output_type": "stream",
     "text": [
      "No handles with labels found to put in legend.\n"
     ]
    },
    {
     "name": "stdout",
     "output_type": "stream",
     "text": [
      "20\n"
     ]
    },
    {
     "data": {
      "image/png": "[encoded data removed]",
      "text/plain": [
       "<Figure size 1080x1080 with 21 Axes>"
      ]
     },
     "metadata": {},
     "output_type": "display_data"
    }
   ],
   "source": [
    "x_vals = np.linspace(-5,5,500)\n",
    "x = torch.tensor(x_vals, dtype=torch.float).view(-1,1)\n",
    "x.requires_grad=True\n",
    "fig, ax = plt.subplots(nrows=3,ncols=7, sharey=True, figsize=(15,15))\n",
    "\n",
    "timegrid = np.linspace(0,1,21)\n",
    "for i in range(len(timegrid)):\n",
    "    print(i)\n",
    "    row = i//7\n",
    "    col = i%7\n",
    "    t = torch.ones_like(x)*timegrid[i]\n",
    "    v = model(t,x)\n",
    "    \n",
    "    ax[row,col].plot(x.data.numpy(),v.data.numpy(),label=\"model\")\n",
    "    if i<len(timegrid)-1:\n",
    "        t = timegrid[i]\n",
    "        v_vals = heat_eq_1d_vec(t,x_vals);\n",
    "        ax[row,col].plot(x_vals,v_vals,label=\"benchmark\")\n",
    "    plt.legend()\n",
    "    ax[row,col].set_title('Time = {:.2f}'.format(timegrid[i]))"
   ]
  },
  {
   "cell_type": "code",
   "execution_count": null,
   "metadata": {
    "collapsed": true
   },
   "outputs": [],
   "source": []
  }
 ],
 "metadata": {
  "kernelspec": {
   "display_name": "Python 3",
   "language": "python",
   "name": "python3"
  },
  "language_info": {
   "codemirror_mode": {
    "name": "ipython",
    "version": 3
   },
   "file_extension": ".py",
   "mimetype": "text/x-python",
   "name": "python",
   "nbconvert_exporter": "python",
   "pygments_lexer": "ipython3",
   "version": "3.6.8"
  }
 },
 "nbformat": 4,
 "nbformat_minor": 2
}
