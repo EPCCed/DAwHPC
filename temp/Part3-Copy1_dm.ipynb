{
 "cells": [
  {
   "cell_type": "markdown",
   "metadata": {},
   "source": [
    "# Part 1"
   ]
  },
  {
   "cell_type": "markdown",
   "metadata": {},
   "source": [
    "# Part 2"
   ]
  },
  {
   "cell_type": "markdown",
   "metadata": {},
   "source": [
    "# Part 3"
   ]
  },
  {
   "cell_type": "markdown",
   "metadata": {},
   "source": [
    "Apart from classification, the K nearest neighbours approach can also be used for regression problems.   \n",
    "\n",
    "**a)** What would be the fundamental difference between KNN regression and classification? How would you make predictions in the case of KNN regression?                                                                                                                              **[2]** \n",
    "\n",
    "**b)** The function My_knn() below is a basic hard-coded implementation of KNN classification of a single data point given a training dataset. Which part would need to change in this function in order to implement the change you suggested in a)? Provide only the lines of code that should be removed and the new replacement code.                                   **[2]** \n",
    "\n",
    "**c)** Below you are provided with a small test set for assessing your KNN regression; the dataset is also available in file salesTest.csv.                                                                                                                                                           \n",
    "\n",
    "**budget** 106.1 364.7 295.9 305.4 266.2 185.6 277.1 370.2 280.7 286.9  \n",
    "**sales**   14.7  21.8  17.4  16.3  16.8  14.8  20.9  24.8  15.2  19.2 \n",
    " \n",
    "**i)** Use your My_knn() regression with K=3 in order to predict the sales in file salesTest.csv using as training set the data from Part 1. Provide the predicted values in the report along with a plot of the true and predicted values you obtained.                                                                                                                                                        \n",
    "\n",
    "**ii)** How do you evaluate the performance of your KNN regression? State what you could you use as a performance measure and write the code to calculate this. Provide the code you wrote for calculating this and the result.              \n",
    "**[4]**"
   ]
  },
  {
   "cell_type": "code",
   "execution_count": 128,
   "metadata": {
    "tags": []
   },
   "outputs": [],
   "source": [
    "from math import sqrt\n",
    "import pandas as pd\n",
    "import numpy as np\n",
    "import sklearn as sk\n",
    "from random import seed\n",
    "from statistics import mode\n",
    "\n",
    "\n",
    "def My_knn(train, test_row, k):\n",
    "    dist_vecs = train - test_row # create distance vector, drop class labels, note test_row is a series, so drop be label\n",
    "    # print('train',train)\n",
    "    # print('test_row',test_row,type(test_row))\n",
    "    # print('dist_vecs',dist_vecs)\n",
    "    \n",
    "    dists = np.linalg.norm(dist_vecs,axis=1) # distances are the norms of the distance vectors\n",
    "    shortest_distance_indices = np.argsort(dists) # generate indices from shortest to longest\n",
    "    # print('dists',dists)\n",
    "    # print('closest points by index',shortest_distance_indices)\n",
    "    classes = train.iloc[shortest_distance_indices[:k]].iloc[:,-1]\n",
    "    pred = mode(classes)\n",
    "    \n",
    "    # print('closest k points',train.iloc[shortest_distance_indices[:k]])\n",
    "    # print('classes of closest k points',classes)\n",
    "    # print(pred)\n",
    "    return pred\n",
    "\n",
    "\n",
    "def My_knnPredict(train, test, k):\n",
    "    predictions = list()\n",
    "    for row in test.to_numpy():\n",
    "        # print(pd.Series(row))\n",
    "        out = My_knn(train, row, k)\n",
    "        predictions.append(out)\n",
    "    return(predictions)"
   ]
  },
  {
   "cell_type": "code",
   "execution_count": 129,
   "metadata": {
    "scrolled": true
   },
   "outputs": [
    {
     "name": "stdout",
     "output_type": "stream",
     "text": [
      "[0, 0, 0, 0, 0, 1, 1, 1, 1, 1]\n"
     ]
    }
   ],
   "source": [
    "dataset = [[2.7810836,2.550537003,0],\n",
    " [1.465489372,2.362125076,0],\n",
    " [3.396561688,4.400293529,0],\n",
    " [1.38807019,1.850220317,0],\n",
    " [3.06407232,3.005305973,0],\n",
    " [7.627531214,2.759262235,1],\n",
    " [5.332441248,2.088626775,1],\n",
    " [6.922596716,1.77106367,1],\n",
    " [8.675418651,-0.242068655,1],\n",
    " [7.673756466,3.508563011,1]]\n",
    "\n",
    "\n",
    "#My_knn(dataset, dataset[0], 3)\n",
    "#MyKnnPredict(dataset, dataset, 3)\n",
    "\n",
    "# check for dataframe\n",
    "dataset=pd.DataFrame(dataset)\n",
    "test_row=pd.Series([1.465489372,2.362125076,0])\n",
    "My_knn(dataset, test_row, 3) # now uses the index of the row to use for testing\n",
    "print(My_knnPredict(dataset, dataset, 3))"
   ]
  },
  {
   "cell_type": "code",
   "execution_count": null,
   "metadata": {},
   "outputs": [],
   "source": []
  },
  {
   "cell_type": "code",
   "execution_count": null,
   "metadata": {},
   "outputs": [],
   "source": []
  }
 ],
 "metadata": {
  "kernelspec": {
   "display_name": "Python 3 (ipykernel)",
   "language": "python",
   "name": "python3"
  },
  "language_info": {
   "codemirror_mode": {
    "name": "ipython",
    "version": 3
   },
   "file_extension": ".py",
   "mimetype": "text/x-python",
   "name": "python",
   "nbconvert_exporter": "python",
   "pygments_lexer": "ipython3",
   "version": "3.9.12"
  }
 },
 "nbformat": 4,
 "nbformat_minor": 4
}
