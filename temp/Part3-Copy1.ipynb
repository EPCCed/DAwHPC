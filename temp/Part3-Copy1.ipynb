{
 "cells": [
  {
   "cell_type": "markdown",
   "metadata": {},
   "source": [
    "# Part 1"
   ]
  },
  {
   "cell_type": "markdown",
   "metadata": {},
   "source": [
    "# Part 2"
   ]
  },
  {
   "cell_type": "markdown",
   "metadata": {},
   "source": [
    "# Part 3"
   ]
  },
  {
   "cell_type": "markdown",
   "metadata": {},
   "source": [
    "Apart from classification, the K nearest neighbours approach can also be used for regression problems.   \n",
    "\n",
    "**a)** What would be the fundamental difference between KNN regression and classification? How would you make predictions in the case of KNN regression?                                                                                                                              **[2]** \n",
    "\n",
    "**b)** The function My_knn() below is a basic hard-coded implementation of KNN classification of a single data point given a training dataset. Which part would need to change in this function in order to implement the change you suggested in a)? Provide only the lines of code that should be removed and the new replacement code.                                   **[2]** \n",
    "\n",
    "**c)** Below you are provided with a small test set for assessing your KNN regression; the dataset is also available in file salesTest.csv.                                                                                                                                                           \n",
    "\n",
    "**budget** 106.1 364.7 295.9 305.4 266.2 185.6 277.1 370.2 280.7 286.9  \n",
    "**sales**   14.7  21.8  17.4  16.3  16.8  14.8  20.9  24.8  15.2  19.2 \n",
    " \n",
    "**i)** Use your My_knn() regression with K=3 in order to predict the sales in file salesTest.csv using as training set the data from Part 1. Provide the predicted values in the report along with a plot of the true and predicted values you obtained.                                                                                                                                                        \n",
    "\n",
    "**ii)** How do you evaluate the performance of your KNN regression? State what you could you use as a performance measure and write the code to calculate this. Provide the code you wrote for calculating this and the result.              \n",
    "**[4]**"
   ]
  },
  {
   "cell_type": "code",
   "execution_count": 69,
   "metadata": {
    "tags": []
   },
   "outputs": [],
   "source": [
    "from math import sqrt\n",
    "import pandas as pd\n",
    "import numpy as np\n",
    "import sklearn as sk\n",
    "from random import seed\n",
    "from statistics import mode\n",
    "\n",
    "#def euclidean(row1, row2):\n",
    "#    euclidean = 0.0\n",
    "#    for i in range(len(row1)-1):\n",
    "#        euclidean += (row1[i] - row2[i])**2\n",
    "#    return sqrt(euclidean)\n",
    "\n",
    "\n",
    "def My_knn(train, test_row_index, k):\n",
    "    test_row = train.iloc[test_row_index]\n",
    "    my_train = train.drop(index=test_row_index).reindex()\n",
    "    print('mytrain',my_train)\n",
    "    print(test_row,type(test_row))\n",
    "    # neighbours = list()\n",
    "    dist_vecs = my_train - test_row\n",
    "    print(dist_vecs)\n",
    "    dists = np.linalg.norm(dist_vecs,axis=1)\n",
    "    print(dists)\n",
    "#     for train_row in train:       \n",
    "#         # calculate euclidean distance\n",
    "#         d = np.linalg.norm(pd.Series(train_row)-pd.Series(test_row))        \n",
    "#         #d=euclidean(train_row, test_row)\n",
    "        \n",
    "#         # store together ([coords,class], euclidean) in a tuple and eachtime append to this a new pair of ([coords],euclidean) \n",
    "#         dist.append((train_row, d))\n",
    "        \n",
    "#         # sort dist object by the distance element, which is the second\n",
    "#         dist.sort(key=lambda tup: tup[1])  \n",
    "#     print(dist)\n",
    "    shortest_distance_indices = np.argpartition(dists,k)+1\n",
    "    classes = my_train.iloc[shortest_distance_indices[:k]].iloc[:,-1]\n",
    "    print(shortest_distance_indices)\n",
    "    print(my_train.iloc[shortest_distance_indices[:k]])\n",
    "    print(classes)\n",
    "    # for i in range(k):        \n",
    "    #    # print(i)\n",
    "    #    neighbours.append(dist[i][0]) # keep the coordinates and class of the closest k neighbours   \n",
    "    # res = [row[-1] for row in neighbours] # keep class of k neigbours\n",
    "    # pred = max(set(res), key=res.count) #pred = statistics.mode(res)?\n",
    "    # #pred=pd.Series(res).mean()  # for regression\n",
    "    pred = mode(classes)\n",
    "    print(pred)\n",
    "    return pred\n",
    "\n",
    "\n",
    "def My_knnPredict(train, test, k):\n",
    "    predictions = list()\n",
    "    for row in test:\n",
    "        out = My_knn(train, row, k)\n",
    "        predictions.append(out)\n",
    "    return(predictions)"
   ]
  },
  {
   "cell_type": "code",
   "execution_count": 70,
   "metadata": {
    "scrolled": true
   },
   "outputs": [
    {
     "name": "stdout",
     "output_type": "stream",
     "text": [
      "mytrain           0         1  2\n",
      "1  1.465489  2.362125  0\n",
      "2  3.396562  4.400294  0\n",
      "3  1.388070  1.850220  0\n",
      "4  3.064072  3.005306  0\n",
      "5  7.627531  2.759262  1\n",
      "6  5.332441  2.088627  1\n",
      "7  6.922597  1.771064  1\n",
      "8  8.675419 -0.242069  1\n",
      "9  7.673756  3.508563  1\n",
      "0    2.781084\n",
      "1    2.550537\n",
      "2    0.000000\n",
      "Name: 0, dtype: float64 <class 'pandas.core.series.Series'>\n",
      "          0         1    2\n",
      "1 -1.315594 -0.188412  0.0\n",
      "2  0.615478  1.849757  0.0\n",
      "3 -1.393013 -0.700317  0.0\n",
      "4  0.282989  0.454769  0.0\n",
      "5  4.846448  0.208725  1.0\n",
      "6  2.551358 -0.461910  1.0\n",
      "7  4.141513 -0.779473  1.0\n",
      "8  5.894335 -2.792606  1.0\n",
      "9  4.892673  0.958026  1.0\n",
      "[1.32901739 1.94946467 1.55914394 0.53562807 4.95294061 2.77899027\n",
      " 4.33124804 6.5986235  5.0848856 ]\n",
      "[1 4 3 2 6 7 5 8 9]\n",
      "          0         1  2\n",
      "2  3.396562  4.400294  0\n",
      "5  7.627531  2.759262  1\n",
      "4  3.064072  3.005306  0\n",
      "2    0\n",
      "5    1\n",
      "4    0\n",
      "Name: 2, dtype: int64\n",
      "0\n"
     ]
    },
    {
     "data": {
      "text/plain": [
       "0"
      ]
     },
     "execution_count": 70,
     "metadata": {},
     "output_type": "execute_result"
    }
   ],
   "source": [
    "dataset = [[2.7810836,2.550537003,0],\n",
    " [1.465489372,2.362125076,0],\n",
    " [3.396561688,4.400293529,0],\n",
    " [1.38807019,1.850220317,0],\n",
    " [3.06407232,3.005305973,0],\n",
    " [7.627531214,2.759262235,1],\n",
    " [5.332441248,2.088626775,1],\n",
    " [6.922596716,1.77106367,1],\n",
    " [8.675418651,-0.242068655,1],\n",
    " [7.673756466,3.508563011,1]]\n",
    "\n",
    "\n",
    "#My_knn(dataset, dataset[0], 3)\n",
    "#MyKnnPredict(dataset, dataset, 3)\n",
    "\n",
    "# check for dataframe\n",
    "dataset=pd.DataFrame(dataset)\n",
    "My_knn(dataset, 0, 3)\n",
    "#MyKnnPredict(dataset, dataset, 3)"
   ]
  },
  {
   "cell_type": "code",
   "execution_count": null,
   "metadata": {},
   "outputs": [],
   "source": []
  },
  {
   "cell_type": "code",
   "execution_count": null,
   "metadata": {},
   "outputs": [],
   "source": []
  }
 ],
 "metadata": {
  "kernelspec": {
   "display_name": "Python 3 (ipykernel)",
   "language": "python",
   "name": "python3"
  },
  "language_info": {
   "codemirror_mode": {
    "name": "ipython",
    "version": 3
   },
   "file_extension": ".py",
   "mimetype": "text/x-python",
   "name": "python",
   "nbconvert_exporter": "python",
   "pygments_lexer": "ipython3",
   "version": "3.9.12"
  }
 },
 "nbformat": 4,
 "nbformat_minor": 4
}
